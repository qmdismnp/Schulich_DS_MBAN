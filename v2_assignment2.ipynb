{
 "cells": [
  {
   "cell_type": "code",
   "execution_count": 426,
   "metadata": {},
   "outputs": [],
   "source": [
    "import numpy as np\n",
    "\n",
    "import pandas as pd\n",
    "\n",
    "import seaborn as sns\n",
    "\n",
    "import matplotlib.pyplot as plt\n",
    "\n",
    "from sklearn.model_selection import train_test_split, cross_val_score\n",
    "\n",
    "from sklearn.metrics import classification_report,f1_score, PrecisionRecallDisplay, precision_score, recall_score, roc_auc_score, RocCurveDisplay, roc_curve, confusion_matrix\n",
    "\n",
    "from sklearn.linear_model import LogisticRegression"
   ]
  },
  {
   "cell_type": "markdown",
   "metadata": {},
   "source": [
    "Scenario: EcomX Retailers is a mid-sized online retail company specializing in electronics, clothing, and home goods. The company has been growing steadily over the past few years and wants to optimize its marketing and customer retention strategies. One key aspect of this strategy is to understand the Customer Lifetime Value (CLV) of its customers. By predicting the CLV, EcomX aims to identify high-value customers and tailor personalized marketing efforts to retain them, while also identifying low-value customers to manage resources effectively."
   ]
  },
  {
   "cell_type": "markdown",
   "metadata": {},
   "source": [
    "Objective: The objective of this assignment is to build and evaluate a machine learning model to predict the Customer Lifetime Value (CLV) of EcomX’s customers. You will need to identify and apply various data cleaning and preparation techniques, as well as select an appropriate model and evaluation criteria."
   ]
  },
  {
   "cell_type": "code",
   "execution_count": 427,
   "metadata": {},
   "outputs": [],
   "source": [
    "customer = pd.read_csv('C:/Users/User/Desktop/customers_final.csv')\n",
    "engagement = pd.read_csv('C:/Users/User/Desktop/engagements_final.csv')\n",
    "marketing = pd.read_csv('C:/Users/User/Desktop/marketing_final.csv')\n",
    "transactions = pd.read_csv('C:/Users/User/Desktop/transactions_final.csv')"
   ]
  },
  {
   "cell_type": "markdown",
   "metadata": {},
   "source": [
    "Data Cleaning (Missing Values)"
   ]
  },
  {
   "cell_type": "code",
   "execution_count": 428,
   "metadata": {},
   "outputs": [
    {
     "data": {
      "text/html": [
       "<div>\n",
       "<style scoped>\n",
       "    .dataframe tbody tr th:only-of-type {\n",
       "        vertical-align: middle;\n",
       "    }\n",
       "\n",
       "    .dataframe tbody tr th {\n",
       "        vertical-align: top;\n",
       "    }\n",
       "\n",
       "    .dataframe thead th {\n",
       "        text-align: right;\n",
       "    }\n",
       "</style>\n",
       "<table border=\"1\" class=\"dataframe\">\n",
       "  <thead>\n",
       "    <tr style=\"text-align: right;\">\n",
       "      <th></th>\n",
       "      <th>customer_id</th>\n",
       "      <th>join_date</th>\n",
       "      <th>last_purchase_date</th>\n",
       "      <th>age</th>\n",
       "      <th>gender</th>\n",
       "      <th>location</th>\n",
       "    </tr>\n",
       "  </thead>\n",
       "  <tbody>\n",
       "    <tr>\n",
       "      <th>0</th>\n",
       "      <td>1</td>\n",
       "      <td>2023-11-20</td>\n",
       "      <td>2024-03-17</td>\n",
       "      <td>56.0</td>\n",
       "      <td>Female</td>\n",
       "      <td>North Shannonbury</td>\n",
       "    </tr>\n",
       "    <tr>\n",
       "      <th>1</th>\n",
       "      <td>2</td>\n",
       "      <td>2021-09-08</td>\n",
       "      <td>2023-10-25</td>\n",
       "      <td>NaN</td>\n",
       "      <td>Male</td>\n",
       "      <td>Hillville</td>\n",
       "    </tr>\n",
       "    <tr>\n",
       "      <th>2</th>\n",
       "      <td>3</td>\n",
       "      <td>2021-06-01</td>\n",
       "      <td>2022-11-27</td>\n",
       "      <td>NaN</td>\n",
       "      <td>NaN</td>\n",
       "      <td>North Latoyatown</td>\n",
       "    </tr>\n",
       "    <tr>\n",
       "      <th>3</th>\n",
       "      <td>4</td>\n",
       "      <td>2022-01-01</td>\n",
       "      <td>2022-09-01</td>\n",
       "      <td>29.0</td>\n",
       "      <td>Male</td>\n",
       "      <td>Grossstad</td>\n",
       "    </tr>\n",
       "    <tr>\n",
       "      <th>4</th>\n",
       "      <td>5</td>\n",
       "      <td>2022-01-24</td>\n",
       "      <td>2023-06-02</td>\n",
       "      <td>NaN</td>\n",
       "      <td>Male</td>\n",
       "      <td>East Matthewfort</td>\n",
       "    </tr>\n",
       "  </tbody>\n",
       "</table>\n",
       "</div>"
      ],
      "text/plain": [
       "   customer_id   join_date last_purchase_date   age  gender           location\n",
       "0            1  2023-11-20         2024-03-17  56.0  Female  North Shannonbury\n",
       "1            2  2021-09-08         2023-10-25   NaN    Male          Hillville\n",
       "2            3  2021-06-01         2022-11-27   NaN     NaN   North Latoyatown\n",
       "3            4  2022-01-01         2022-09-01  29.0    Male          Grossstad\n",
       "4            5  2022-01-24         2023-06-02   NaN    Male   East Matthewfort"
      ]
     },
     "execution_count": 428,
     "metadata": {},
     "output_type": "execute_result"
    }
   ],
   "source": [
    "customer.head()"
   ]
  },
  {
   "cell_type": "code",
   "execution_count": 429,
   "metadata": {},
   "outputs": [
    {
     "data": {
      "text/html": [
       "<div>\n",
       "<style scoped>\n",
       "    .dataframe tbody tr th:only-of-type {\n",
       "        vertical-align: middle;\n",
       "    }\n",
       "\n",
       "    .dataframe tbody tr th {\n",
       "        vertical-align: top;\n",
       "    }\n",
       "\n",
       "    .dataframe thead th {\n",
       "        text-align: right;\n",
       "    }\n",
       "</style>\n",
       "<table border=\"1\" class=\"dataframe\">\n",
       "  <thead>\n",
       "    <tr style=\"text-align: right;\">\n",
       "      <th></th>\n",
       "      <th>customer_id</th>\n",
       "      <th>join_date</th>\n",
       "      <th>last_purchase_date</th>\n",
       "      <th>age</th>\n",
       "      <th>gender</th>\n",
       "      <th>location</th>\n",
       "    </tr>\n",
       "  </thead>\n",
       "  <tbody>\n",
       "    <tr>\n",
       "      <th>0</th>\n",
       "      <td>1</td>\n",
       "      <td>2023-11-20</td>\n",
       "      <td>2024-03-17</td>\n",
       "      <td>56.0</td>\n",
       "      <td>Female</td>\n",
       "      <td>North Shannonbury</td>\n",
       "    </tr>\n",
       "    <tr>\n",
       "      <th>1</th>\n",
       "      <td>2</td>\n",
       "      <td>2021-09-08</td>\n",
       "      <td>2023-10-25</td>\n",
       "      <td>NaN</td>\n",
       "      <td>Male</td>\n",
       "      <td>Hillville</td>\n",
       "    </tr>\n",
       "    <tr>\n",
       "      <th>2</th>\n",
       "      <td>3</td>\n",
       "      <td>2021-06-01</td>\n",
       "      <td>2022-11-27</td>\n",
       "      <td>NaN</td>\n",
       "      <td>NaN</td>\n",
       "      <td>North Latoyatown</td>\n",
       "    </tr>\n",
       "    <tr>\n",
       "      <th>3</th>\n",
       "      <td>4</td>\n",
       "      <td>2022-01-01</td>\n",
       "      <td>2022-09-01</td>\n",
       "      <td>29.0</td>\n",
       "      <td>Male</td>\n",
       "      <td>Grossstad</td>\n",
       "    </tr>\n",
       "    <tr>\n",
       "      <th>4</th>\n",
       "      <td>5</td>\n",
       "      <td>2022-01-24</td>\n",
       "      <td>2023-06-02</td>\n",
       "      <td>NaN</td>\n",
       "      <td>Male</td>\n",
       "      <td>East Matthewfort</td>\n",
       "    </tr>\n",
       "    <tr>\n",
       "      <th>...</th>\n",
       "      <td>...</td>\n",
       "      <td>...</td>\n",
       "      <td>...</td>\n",
       "      <td>...</td>\n",
       "      <td>...</td>\n",
       "      <td>...</td>\n",
       "    </tr>\n",
       "    <tr>\n",
       "      <th>9995</th>\n",
       "      <td>9996</td>\n",
       "      <td>2022-12-16</td>\n",
       "      <td>2023-08-13</td>\n",
       "      <td>42.0</td>\n",
       "      <td>Female</td>\n",
       "      <td>Johnstonborough</td>\n",
       "    </tr>\n",
       "    <tr>\n",
       "      <th>9996</th>\n",
       "      <td>9997</td>\n",
       "      <td>2022-07-09</td>\n",
       "      <td>2023-01-25</td>\n",
       "      <td>26.0</td>\n",
       "      <td>Male</td>\n",
       "      <td>Jessicamouth</td>\n",
       "    </tr>\n",
       "    <tr>\n",
       "      <th>9997</th>\n",
       "      <td>9998</td>\n",
       "      <td>2023-09-17</td>\n",
       "      <td>2024-01-30</td>\n",
       "      <td>39.0</td>\n",
       "      <td>Male</td>\n",
       "      <td>New John</td>\n",
       "    </tr>\n",
       "    <tr>\n",
       "      <th>9998</th>\n",
       "      <td>9999</td>\n",
       "      <td>2022-05-10</td>\n",
       "      <td>2022-07-15</td>\n",
       "      <td>31.0</td>\n",
       "      <td>Female</td>\n",
       "      <td>Andrewland</td>\n",
       "    </tr>\n",
       "    <tr>\n",
       "      <th>9999</th>\n",
       "      <td>10000</td>\n",
       "      <td>2023-05-26</td>\n",
       "      <td>2023-09-01</td>\n",
       "      <td>67.0</td>\n",
       "      <td>Male</td>\n",
       "      <td>Hollytown</td>\n",
       "    </tr>\n",
       "  </tbody>\n",
       "</table>\n",
       "<p>10000 rows × 6 columns</p>\n",
       "</div>"
      ],
      "text/plain": [
       "      customer_id   join_date last_purchase_date   age  gender  \\\n",
       "0               1  2023-11-20         2024-03-17  56.0  Female   \n",
       "1               2  2021-09-08         2023-10-25   NaN    Male   \n",
       "2               3  2021-06-01         2022-11-27   NaN     NaN   \n",
       "3               4  2022-01-01         2022-09-01  29.0    Male   \n",
       "4               5  2022-01-24         2023-06-02   NaN    Male   \n",
       "...           ...         ...                ...   ...     ...   \n",
       "9995         9996  2022-12-16         2023-08-13  42.0  Female   \n",
       "9996         9997  2022-07-09         2023-01-25  26.0    Male   \n",
       "9997         9998  2023-09-17         2024-01-30  39.0    Male   \n",
       "9998         9999  2022-05-10         2022-07-15  31.0  Female   \n",
       "9999        10000  2023-05-26         2023-09-01  67.0    Male   \n",
       "\n",
       "               location  \n",
       "0     North Shannonbury  \n",
       "1             Hillville  \n",
       "2      North Latoyatown  \n",
       "3             Grossstad  \n",
       "4      East Matthewfort  \n",
       "...                 ...  \n",
       "9995    Johnstonborough  \n",
       "9996       Jessicamouth  \n",
       "9997           New John  \n",
       "9998         Andrewland  \n",
       "9999          Hollytown  \n",
       "\n",
       "[10000 rows x 6 columns]"
      ]
     },
     "execution_count": 429,
     "metadata": {},
     "output_type": "execute_result"
    }
   ],
   "source": [
    "customer"
   ]
  },
  {
   "cell_type": "code",
   "execution_count": 430,
   "metadata": {},
   "outputs": [
    {
     "name": "stdout",
     "output_type": "stream",
     "text": [
      "<class 'pandas.core.frame.DataFrame'>\n",
      "RangeIndex: 10000 entries, 0 to 9999\n",
      "Data columns (total 6 columns):\n",
      " #   Column              Non-Null Count  Dtype  \n",
      "---  ------              --------------  -----  \n",
      " 0   customer_id         10000 non-null  int64  \n",
      " 1   join_date           10000 non-null  object \n",
      " 2   last_purchase_date  10000 non-null  object \n",
      " 3   age                 8991 non-null   float64\n",
      " 4   gender              9467 non-null   object \n",
      " 5   location            10000 non-null  object \n",
      "dtypes: float64(1), int64(1), object(4)\n",
      "memory usage: 468.9+ KB\n"
     ]
    }
   ],
   "source": [
    "customer.info()"
   ]
  },
  {
   "cell_type": "code",
   "execution_count": 431,
   "metadata": {},
   "outputs": [
    {
     "data": {
      "text/html": [
       "<div>\n",
       "<style scoped>\n",
       "    .dataframe tbody tr th:only-of-type {\n",
       "        vertical-align: middle;\n",
       "    }\n",
       "\n",
       "    .dataframe tbody tr th {\n",
       "        vertical-align: top;\n",
       "    }\n",
       "\n",
       "    .dataframe thead th {\n",
       "        text-align: right;\n",
       "    }\n",
       "</style>\n",
       "<table border=\"1\" class=\"dataframe\">\n",
       "  <thead>\n",
       "    <tr style=\"text-align: right;\">\n",
       "      <th></th>\n",
       "      <th>customer_id</th>\n",
       "      <th>age</th>\n",
       "    </tr>\n",
       "  </thead>\n",
       "  <tbody>\n",
       "    <tr>\n",
       "      <th>count</th>\n",
       "      <td>10000.00000</td>\n",
       "      <td>8991.000000</td>\n",
       "    </tr>\n",
       "    <tr>\n",
       "      <th>mean</th>\n",
       "      <td>5000.50000</td>\n",
       "      <td>43.467467</td>\n",
       "    </tr>\n",
       "    <tr>\n",
       "      <th>std</th>\n",
       "      <td>2886.89568</td>\n",
       "      <td>15.094380</td>\n",
       "    </tr>\n",
       "    <tr>\n",
       "      <th>min</th>\n",
       "      <td>1.00000</td>\n",
       "      <td>18.000000</td>\n",
       "    </tr>\n",
       "    <tr>\n",
       "      <th>25%</th>\n",
       "      <td>2500.75000</td>\n",
       "      <td>30.000000</td>\n",
       "    </tr>\n",
       "    <tr>\n",
       "      <th>50%</th>\n",
       "      <td>5000.50000</td>\n",
       "      <td>44.000000</td>\n",
       "    </tr>\n",
       "    <tr>\n",
       "      <th>75%</th>\n",
       "      <td>7500.25000</td>\n",
       "      <td>57.000000</td>\n",
       "    </tr>\n",
       "    <tr>\n",
       "      <th>max</th>\n",
       "      <td>10000.00000</td>\n",
       "      <td>69.000000</td>\n",
       "    </tr>\n",
       "  </tbody>\n",
       "</table>\n",
       "</div>"
      ],
      "text/plain": [
       "       customer_id          age\n",
       "count  10000.00000  8991.000000\n",
       "mean    5000.50000    43.467467\n",
       "std     2886.89568    15.094380\n",
       "min        1.00000    18.000000\n",
       "25%     2500.75000    30.000000\n",
       "50%     5000.50000    44.000000\n",
       "75%     7500.25000    57.000000\n",
       "max    10000.00000    69.000000"
      ]
     },
     "execution_count": 431,
     "metadata": {},
     "output_type": "execute_result"
    }
   ],
   "source": [
    "customer.describe()"
   ]
  },
  {
   "cell_type": "code",
   "execution_count": 432,
   "metadata": {},
   "outputs": [],
   "source": [
    "#fill out missing value to customer's age column with the age mean\n",
    "customer['age']= customer['age'].fillna(customer['age'].mean())"
   ]
  },
  {
   "cell_type": "code",
   "execution_count": 433,
   "metadata": {},
   "outputs": [],
   "source": [
    "#change the data type from float to int\n",
    "customer['age']= customer['age'].astype(int)"
   ]
  },
  {
   "cell_type": "code",
   "execution_count": 434,
   "metadata": {},
   "outputs": [
    {
     "data": {
      "text/html": [
       "<div>\n",
       "<style scoped>\n",
       "    .dataframe tbody tr th:only-of-type {\n",
       "        vertical-align: middle;\n",
       "    }\n",
       "\n",
       "    .dataframe tbody tr th {\n",
       "        vertical-align: top;\n",
       "    }\n",
       "\n",
       "    .dataframe thead th {\n",
       "        text-align: right;\n",
       "    }\n",
       "</style>\n",
       "<table border=\"1\" class=\"dataframe\">\n",
       "  <thead>\n",
       "    <tr style=\"text-align: right;\">\n",
       "      <th></th>\n",
       "      <th>customer_id</th>\n",
       "      <th>join_date</th>\n",
       "      <th>last_purchase_date</th>\n",
       "      <th>age</th>\n",
       "      <th>gender</th>\n",
       "      <th>location</th>\n",
       "    </tr>\n",
       "  </thead>\n",
       "  <tbody>\n",
       "    <tr>\n",
       "      <th>0</th>\n",
       "      <td>1</td>\n",
       "      <td>2023-11-20</td>\n",
       "      <td>2024-03-17</td>\n",
       "      <td>56</td>\n",
       "      <td>Female</td>\n",
       "      <td>North Shannonbury</td>\n",
       "    </tr>\n",
       "    <tr>\n",
       "      <th>1</th>\n",
       "      <td>2</td>\n",
       "      <td>2021-09-08</td>\n",
       "      <td>2023-10-25</td>\n",
       "      <td>43</td>\n",
       "      <td>Male</td>\n",
       "      <td>Hillville</td>\n",
       "    </tr>\n",
       "    <tr>\n",
       "      <th>2</th>\n",
       "      <td>3</td>\n",
       "      <td>2021-06-01</td>\n",
       "      <td>2022-11-27</td>\n",
       "      <td>43</td>\n",
       "      <td>NaN</td>\n",
       "      <td>North Latoyatown</td>\n",
       "    </tr>\n",
       "    <tr>\n",
       "      <th>3</th>\n",
       "      <td>4</td>\n",
       "      <td>2022-01-01</td>\n",
       "      <td>2022-09-01</td>\n",
       "      <td>29</td>\n",
       "      <td>Male</td>\n",
       "      <td>Grossstad</td>\n",
       "    </tr>\n",
       "    <tr>\n",
       "      <th>4</th>\n",
       "      <td>5</td>\n",
       "      <td>2022-01-24</td>\n",
       "      <td>2023-06-02</td>\n",
       "      <td>43</td>\n",
       "      <td>Male</td>\n",
       "      <td>East Matthewfort</td>\n",
       "    </tr>\n",
       "  </tbody>\n",
       "</table>\n",
       "</div>"
      ],
      "text/plain": [
       "   customer_id   join_date last_purchase_date  age  gender           location\n",
       "0            1  2023-11-20         2024-03-17   56  Female  North Shannonbury\n",
       "1            2  2021-09-08         2023-10-25   43    Male          Hillville\n",
       "2            3  2021-06-01         2022-11-27   43     NaN   North Latoyatown\n",
       "3            4  2022-01-01         2022-09-01   29    Male          Grossstad\n",
       "4            5  2022-01-24         2023-06-02   43    Male   East Matthewfort"
      ]
     },
     "execution_count": 434,
     "metadata": {},
     "output_type": "execute_result"
    }
   ],
   "source": [
    "#check if missing values are gone\n",
    "customer.head()"
   ]
  },
  {
   "cell_type": "code",
   "execution_count": 435,
   "metadata": {},
   "outputs": [],
   "source": [
    "#fill out missing data under gender column\n",
    "#N/A is defined as Other\n",
    "def gender_type(x):\n",
    "    if x == 'Female':\n",
    "        return 'Female'\n",
    "    elif x == 'Male':\n",
    "        return 'Male'\n",
    "    else:\n",
    "        return 'Other'\n",
    "\n",
    "customer['gender'] = customer['gender'].apply(gender_type)"
   ]
  },
  {
   "cell_type": "code",
   "execution_count": 436,
   "metadata": {},
   "outputs": [
    {
     "name": "stdout",
     "output_type": "stream",
     "text": [
      "<class 'pandas.core.frame.DataFrame'>\n",
      "RangeIndex: 10000 entries, 0 to 9999\n",
      "Data columns (total 6 columns):\n",
      " #   Column              Non-Null Count  Dtype \n",
      "---  ------              --------------  ----- \n",
      " 0   customer_id         10000 non-null  int64 \n",
      " 1   join_date           10000 non-null  object\n",
      " 2   last_purchase_date  10000 non-null  object\n",
      " 3   age                 10000 non-null  int32 \n",
      " 4   gender              10000 non-null  object\n",
      " 5   location            10000 non-null  object\n",
      "dtypes: int32(1), int64(1), object(4)\n",
      "memory usage: 429.8+ KB\n"
     ]
    }
   ],
   "source": [
    "#check if all missing data are gone\n",
    "customer.info()"
   ]
  },
  {
   "cell_type": "code",
   "execution_count": 437,
   "metadata": {},
   "outputs": [
    {
     "data": {
      "text/html": [
       "<div>\n",
       "<style scoped>\n",
       "    .dataframe tbody tr th:only-of-type {\n",
       "        vertical-align: middle;\n",
       "    }\n",
       "\n",
       "    .dataframe tbody tr th {\n",
       "        vertical-align: top;\n",
       "    }\n",
       "\n",
       "    .dataframe thead th {\n",
       "        text-align: right;\n",
       "    }\n",
       "</style>\n",
       "<table border=\"1\" class=\"dataframe\">\n",
       "  <thead>\n",
       "    <tr style=\"text-align: right;\">\n",
       "      <th></th>\n",
       "      <th>customer_id</th>\n",
       "      <th>number_of_site_visits</th>\n",
       "      <th>number_of_emails_opened</th>\n",
       "      <th>number_of_clicks</th>\n",
       "    </tr>\n",
       "  </thead>\n",
       "  <tbody>\n",
       "    <tr>\n",
       "      <th>0</th>\n",
       "      <td>1</td>\n",
       "      <td>10</td>\n",
       "      <td>15</td>\n",
       "      <td>1</td>\n",
       "    </tr>\n",
       "    <tr>\n",
       "      <th>1</th>\n",
       "      <td>2</td>\n",
       "      <td>285</td>\n",
       "      <td>49</td>\n",
       "      <td>51</td>\n",
       "    </tr>\n",
       "    <tr>\n",
       "      <th>2</th>\n",
       "      <td>3</td>\n",
       "      <td>192</td>\n",
       "      <td>73</td>\n",
       "      <td>25</td>\n",
       "    </tr>\n",
       "    <tr>\n",
       "      <th>3</th>\n",
       "      <td>4</td>\n",
       "      <td>110</td>\n",
       "      <td>30</td>\n",
       "      <td>17</td>\n",
       "    </tr>\n",
       "    <tr>\n",
       "      <th>4</th>\n",
       "      <td>5</td>\n",
       "      <td>161</td>\n",
       "      <td>2</td>\n",
       "      <td>7</td>\n",
       "    </tr>\n",
       "  </tbody>\n",
       "</table>\n",
       "</div>"
      ],
      "text/plain": [
       "   customer_id  number_of_site_visits  number_of_emails_opened  \\\n",
       "0            1                     10                       15   \n",
       "1            2                    285                       49   \n",
       "2            3                    192                       73   \n",
       "3            4                    110                       30   \n",
       "4            5                    161                        2   \n",
       "\n",
       "   number_of_clicks  \n",
       "0                 1  \n",
       "1                51  \n",
       "2                25  \n",
       "3                17  \n",
       "4                 7  "
      ]
     },
     "execution_count": 437,
     "metadata": {},
     "output_type": "execute_result"
    }
   ],
   "source": [
    "engagement.head()"
   ]
  },
  {
   "cell_type": "code",
   "execution_count": 438,
   "metadata": {},
   "outputs": [
    {
     "name": "stdout",
     "output_type": "stream",
     "text": [
      "<class 'pandas.core.frame.DataFrame'>\n",
      "RangeIndex: 10000 entries, 0 to 9999\n",
      "Data columns (total 4 columns):\n",
      " #   Column                   Non-Null Count  Dtype\n",
      "---  ------                   --------------  -----\n",
      " 0   customer_id              10000 non-null  int64\n",
      " 1   number_of_site_visits    10000 non-null  int64\n",
      " 2   number_of_emails_opened  10000 non-null  int64\n",
      " 3   number_of_clicks         10000 non-null  int64\n",
      "dtypes: int64(4)\n",
      "memory usage: 312.6 KB\n"
     ]
    }
   ],
   "source": [
    "engagement.info()"
   ]
  },
  {
   "cell_type": "code",
   "execution_count": 439,
   "metadata": {},
   "outputs": [
    {
     "data": {
      "text/html": [
       "<div>\n",
       "<style scoped>\n",
       "    .dataframe tbody tr th:only-of-type {\n",
       "        vertical-align: middle;\n",
       "    }\n",
       "\n",
       "    .dataframe tbody tr th {\n",
       "        vertical-align: top;\n",
       "    }\n",
       "\n",
       "    .dataframe thead th {\n",
       "        text-align: right;\n",
       "    }\n",
       "</style>\n",
       "<table border=\"1\" class=\"dataframe\">\n",
       "  <thead>\n",
       "    <tr style=\"text-align: right;\">\n",
       "      <th></th>\n",
       "      <th>customer_id</th>\n",
       "      <th>number_of_site_visits</th>\n",
       "      <th>number_of_emails_opened</th>\n",
       "      <th>number_of_clicks</th>\n",
       "    </tr>\n",
       "  </thead>\n",
       "  <tbody>\n",
       "    <tr>\n",
       "      <th>count</th>\n",
       "      <td>10000.00000</td>\n",
       "      <td>10000.000000</td>\n",
       "      <td>10000.000000</td>\n",
       "      <td>10000.000000</td>\n",
       "    </tr>\n",
       "    <tr>\n",
       "      <th>mean</th>\n",
       "      <td>5000.50000</td>\n",
       "      <td>100.111900</td>\n",
       "      <td>39.862100</td>\n",
       "      <td>19.725300</td>\n",
       "    </tr>\n",
       "    <tr>\n",
       "      <th>std</th>\n",
       "      <td>2886.89568</td>\n",
       "      <td>118.625052</td>\n",
       "      <td>46.511719</td>\n",
       "      <td>22.975083</td>\n",
       "    </tr>\n",
       "    <tr>\n",
       "      <th>min</th>\n",
       "      <td>1.00000</td>\n",
       "      <td>1.000000</td>\n",
       "      <td>1.000000</td>\n",
       "      <td>1.000000</td>\n",
       "    </tr>\n",
       "    <tr>\n",
       "      <th>25%</th>\n",
       "      <td>2500.75000</td>\n",
       "      <td>15.000000</td>\n",
       "      <td>6.000000</td>\n",
       "      <td>3.000000</td>\n",
       "    </tr>\n",
       "    <tr>\n",
       "      <th>50%</th>\n",
       "      <td>5000.50000</td>\n",
       "      <td>53.000000</td>\n",
       "      <td>22.000000</td>\n",
       "      <td>11.000000</td>\n",
       "    </tr>\n",
       "    <tr>\n",
       "      <th>75%</th>\n",
       "      <td>7500.25000</td>\n",
       "      <td>141.000000</td>\n",
       "      <td>57.000000</td>\n",
       "      <td>28.000000</td>\n",
       "    </tr>\n",
       "    <tr>\n",
       "      <th>max</th>\n",
       "      <td>10000.00000</td>\n",
       "      <td>711.000000</td>\n",
       "      <td>303.000000</td>\n",
       "      <td>142.000000</td>\n",
       "    </tr>\n",
       "  </tbody>\n",
       "</table>\n",
       "</div>"
      ],
      "text/plain": [
       "       customer_id  number_of_site_visits  number_of_emails_opened  \\\n",
       "count  10000.00000           10000.000000             10000.000000   \n",
       "mean    5000.50000             100.111900                39.862100   \n",
       "std     2886.89568             118.625052                46.511719   \n",
       "min        1.00000               1.000000                 1.000000   \n",
       "25%     2500.75000              15.000000                 6.000000   \n",
       "50%     5000.50000              53.000000                22.000000   \n",
       "75%     7500.25000             141.000000                57.000000   \n",
       "max    10000.00000             711.000000               303.000000   \n",
       "\n",
       "       number_of_clicks  \n",
       "count      10000.000000  \n",
       "mean          19.725300  \n",
       "std           22.975083  \n",
       "min            1.000000  \n",
       "25%            3.000000  \n",
       "50%           11.000000  \n",
       "75%           28.000000  \n",
       "max          142.000000  "
      ]
     },
     "execution_count": 439,
     "metadata": {},
     "output_type": "execute_result"
    }
   ],
   "source": [
    "engagement.describe()"
   ]
  },
  {
   "cell_type": "code",
   "execution_count": 440,
   "metadata": {},
   "outputs": [
    {
     "data": {
      "text/html": [
       "<div>\n",
       "<style scoped>\n",
       "    .dataframe tbody tr th:only-of-type {\n",
       "        vertical-align: middle;\n",
       "    }\n",
       "\n",
       "    .dataframe tbody tr th {\n",
       "        vertical-align: top;\n",
       "    }\n",
       "\n",
       "    .dataframe thead th {\n",
       "        text-align: right;\n",
       "    }\n",
       "</style>\n",
       "<table border=\"1\" class=\"dataframe\">\n",
       "  <thead>\n",
       "    <tr style=\"text-align: right;\">\n",
       "      <th></th>\n",
       "      <th>customer_id</th>\n",
       "      <th>number_of_site_visits</th>\n",
       "      <th>number_of_emails_opened</th>\n",
       "      <th>number_of_clicks</th>\n",
       "    </tr>\n",
       "  </thead>\n",
       "  <tbody>\n",
       "    <tr>\n",
       "      <th>4052</th>\n",
       "      <td>4053</td>\n",
       "      <td>711</td>\n",
       "      <td>17</td>\n",
       "      <td>1</td>\n",
       "    </tr>\n",
       "  </tbody>\n",
       "</table>\n",
       "</div>"
      ],
      "text/plain": [
       "      customer_id  number_of_site_visits  number_of_emails_opened  \\\n",
       "4052         4053                    711                       17   \n",
       "\n",
       "      number_of_clicks  \n",
       "4052                 1  "
      ]
     },
     "execution_count": 440,
     "metadata": {},
     "output_type": "execute_result"
    }
   ],
   "source": [
    "#investigat if there exist outlier\n",
    "engagement[engagement['number_of_site_visits'] == 711]"
   ]
  },
  {
   "cell_type": "code",
   "execution_count": 441,
   "metadata": {},
   "outputs": [
    {
     "data": {
      "text/html": [
       "<div>\n",
       "<style scoped>\n",
       "    .dataframe tbody tr th:only-of-type {\n",
       "        vertical-align: middle;\n",
       "    }\n",
       "\n",
       "    .dataframe tbody tr th {\n",
       "        vertical-align: top;\n",
       "    }\n",
       "\n",
       "    .dataframe thead th {\n",
       "        text-align: right;\n",
       "    }\n",
       "</style>\n",
       "<table border=\"1\" class=\"dataframe\">\n",
       "  <thead>\n",
       "    <tr style=\"text-align: right;\">\n",
       "      <th></th>\n",
       "      <th>campaign_id</th>\n",
       "      <th>customer_id</th>\n",
       "      <th>response</th>\n",
       "      <th>promotion_type</th>\n",
       "      <th>campaign_date</th>\n",
       "    </tr>\n",
       "  </thead>\n",
       "  <tbody>\n",
       "    <tr>\n",
       "      <th>0</th>\n",
       "      <td>1</td>\n",
       "      <td>1</td>\n",
       "      <td>No</td>\n",
       "      <td>Buy One Get One</td>\n",
       "      <td>2024-02-29</td>\n",
       "    </tr>\n",
       "    <tr>\n",
       "      <th>1</th>\n",
       "      <td>2</td>\n",
       "      <td>1</td>\n",
       "      <td>No</td>\n",
       "      <td>Discount</td>\n",
       "      <td>2024-01-24</td>\n",
       "    </tr>\n",
       "    <tr>\n",
       "      <th>2</th>\n",
       "      <td>3</td>\n",
       "      <td>1</td>\n",
       "      <td>No</td>\n",
       "      <td>Free Shipping</td>\n",
       "      <td>2024-03-05</td>\n",
       "    </tr>\n",
       "    <tr>\n",
       "      <th>3</th>\n",
       "      <td>4</td>\n",
       "      <td>1</td>\n",
       "      <td>Yes</td>\n",
       "      <td>Buy One Get One</td>\n",
       "      <td>2024-01-10</td>\n",
       "    </tr>\n",
       "    <tr>\n",
       "      <th>4</th>\n",
       "      <td>5</td>\n",
       "      <td>2</td>\n",
       "      <td>Yes</td>\n",
       "      <td>Free Shipping</td>\n",
       "      <td>2022-07-08</td>\n",
       "    </tr>\n",
       "  </tbody>\n",
       "</table>\n",
       "</div>"
      ],
      "text/plain": [
       "   campaign_id  customer_id response   promotion_type campaign_date\n",
       "0            1            1       No  Buy One Get One    2024-02-29\n",
       "1            2            1       No         Discount    2024-01-24\n",
       "2            3            1       No    Free Shipping    2024-03-05\n",
       "3            4            1      Yes  Buy One Get One    2024-01-10\n",
       "4            5            2      Yes    Free Shipping    2022-07-08"
      ]
     },
     "execution_count": 441,
     "metadata": {},
     "output_type": "execute_result"
    }
   ],
   "source": [
    "marketing.head()"
   ]
  },
  {
   "cell_type": "code",
   "execution_count": 442,
   "metadata": {},
   "outputs": [
    {
     "name": "stdout",
     "output_type": "stream",
     "text": [
      "<class 'pandas.core.frame.DataFrame'>\n",
      "RangeIndex: 25200 entries, 0 to 25199\n",
      "Data columns (total 5 columns):\n",
      " #   Column          Non-Null Count  Dtype \n",
      "---  ------          --------------  ----- \n",
      " 0   campaign_id     25200 non-null  int64 \n",
      " 1   customer_id     25200 non-null  int64 \n",
      " 2   response        25200 non-null  object\n",
      " 3   promotion_type  25200 non-null  object\n",
      " 4   campaign_date   25200 non-null  object\n",
      "dtypes: int64(2), object(3)\n",
      "memory usage: 984.5+ KB\n"
     ]
    }
   ],
   "source": [
    "marketing.info()"
   ]
  },
  {
   "cell_type": "code",
   "execution_count": 443,
   "metadata": {},
   "outputs": [
    {
     "name": "stdout",
     "output_type": "stream",
     "text": [
      "<class 'pandas.core.frame.DataFrame'>\n",
      "RangeIndex: 129545 entries, 0 to 129544\n",
      "Data columns (total 5 columns):\n",
      " #   Column              Non-Null Count   Dtype  \n",
      "---  ------              --------------   -----  \n",
      " 0   transaction_id      129545 non-null  int64  \n",
      " 1   customer_id         129545 non-null  int64  \n",
      " 2   transaction_date    129545 non-null  object \n",
      " 3   transaction_amount  129545 non-null  float64\n",
      " 4   product_category    129545 non-null  object \n",
      "dtypes: float64(1), int64(2), object(2)\n",
      "memory usage: 4.9+ MB\n"
     ]
    }
   ],
   "source": [
    "transactions.info()"
   ]
  },
  {
   "cell_type": "code",
   "execution_count": null,
   "metadata": {},
   "outputs": [],
   "source": [
    "customer['join_date'] = pd.to_datetime(customer['join_date'])\n",
    "customer['last_purchase_date'] = pd.to_datetime(customer['last_purchase_date'])\n",
    "transactions['transaction_date'] = pd.to_datetime(transactions['transaction_date'])\n",
    "marketing['campaign_date'] = pd.to_datetime(marketing['campaign_date'])"
   ]
  },
  {
   "cell_type": "markdown",
   "metadata": {},
   "source": [
    "Join Tables"
   ]
  },
  {
   "cell_type": "code",
   "execution_count": 444,
   "metadata": {},
   "outputs": [],
   "source": [
    "# split at customer level with # of marketing campaigns customer responded YES and No\n",
    "# step 1: marketing data at a customer level\n",
    "\n",
    "marketing_agg_yes = marketing[marketing['response']=='Yes'].groupby('customer_id')['campaign_id'].count().to_frame()"
   ]
  },
  {
   "cell_type": "code",
   "execution_count": 445,
   "metadata": {},
   "outputs": [],
   "source": [
    "# step 2: aggregate transaction data at a customer level\n",
    "transactions_agg = transactions.groupby('customer_id').aggregate({'transaction_id':'count','transaction_amount':'sum'})"
   ]
  },
  {
   "cell_type": "code",
   "execution_count": 446,
   "metadata": {},
   "outputs": [],
   "source": [
    "# step 3: set customers and engagement index as customer_id\n",
    "customer.set_index('customer_id', inplace=True)\n",
    "engagement.set_index('customer_id', inplace=True)"
   ]
  },
  {
   "cell_type": "code",
   "execution_count": 450,
   "metadata": {},
   "outputs": [],
   "source": [
    "# step 4: join all tables\n",
    "joint_data= customer.join(engagement).join(transactions_agg).join(marketing_agg_yes)"
   ]
  },
  {
   "cell_type": "code",
   "execution_count": 451,
   "metadata": {},
   "outputs": [
    {
     "data": {
      "text/html": [
       "<div>\n",
       "<style scoped>\n",
       "    .dataframe tbody tr th:only-of-type {\n",
       "        vertical-align: middle;\n",
       "    }\n",
       "\n",
       "    .dataframe tbody tr th {\n",
       "        vertical-align: top;\n",
       "    }\n",
       "\n",
       "    .dataframe thead th {\n",
       "        text-align: right;\n",
       "    }\n",
       "</style>\n",
       "<table border=\"1\" class=\"dataframe\">\n",
       "  <thead>\n",
       "    <tr style=\"text-align: right;\">\n",
       "      <th></th>\n",
       "      <th>join_date</th>\n",
       "      <th>last_purchase_date</th>\n",
       "      <th>age</th>\n",
       "      <th>gender</th>\n",
       "      <th>location</th>\n",
       "      <th>number_of_site_visits</th>\n",
       "      <th>number_of_emails_opened</th>\n",
       "      <th>number_of_clicks</th>\n",
       "      <th>transaction_id</th>\n",
       "      <th>transaction_amount</th>\n",
       "      <th>campaign_id</th>\n",
       "    </tr>\n",
       "    <tr>\n",
       "      <th>customer_id</th>\n",
       "      <th></th>\n",
       "      <th></th>\n",
       "      <th></th>\n",
       "      <th></th>\n",
       "      <th></th>\n",
       "      <th></th>\n",
       "      <th></th>\n",
       "      <th></th>\n",
       "      <th></th>\n",
       "      <th></th>\n",
       "      <th></th>\n",
       "    </tr>\n",
       "  </thead>\n",
       "  <tbody>\n",
       "    <tr>\n",
       "      <th>1</th>\n",
       "      <td>2023-11-20</td>\n",
       "      <td>2024-03-17</td>\n",
       "      <td>56</td>\n",
       "      <td>Female</td>\n",
       "      <td>North Shannonbury</td>\n",
       "      <td>10</td>\n",
       "      <td>15</td>\n",
       "      <td>1</td>\n",
       "      <td>6</td>\n",
       "      <td>3509.48</td>\n",
       "      <td>1.0</td>\n",
       "    </tr>\n",
       "    <tr>\n",
       "      <th>2</th>\n",
       "      <td>2021-09-08</td>\n",
       "      <td>2023-10-25</td>\n",
       "      <td>43</td>\n",
       "      <td>Male</td>\n",
       "      <td>Hillville</td>\n",
       "      <td>285</td>\n",
       "      <td>49</td>\n",
       "      <td>51</td>\n",
       "      <td>9</td>\n",
       "      <td>6081.32</td>\n",
       "      <td>2.0</td>\n",
       "    </tr>\n",
       "    <tr>\n",
       "      <th>3</th>\n",
       "      <td>2021-06-01</td>\n",
       "      <td>2022-11-27</td>\n",
       "      <td>43</td>\n",
       "      <td>Other</td>\n",
       "      <td>North Latoyatown</td>\n",
       "      <td>192</td>\n",
       "      <td>73</td>\n",
       "      <td>25</td>\n",
       "      <td>6</td>\n",
       "      <td>1454.87</td>\n",
       "      <td>1.0</td>\n",
       "    </tr>\n",
       "    <tr>\n",
       "      <th>4</th>\n",
       "      <td>2022-01-01</td>\n",
       "      <td>2022-09-01</td>\n",
       "      <td>29</td>\n",
       "      <td>Male</td>\n",
       "      <td>Grossstad</td>\n",
       "      <td>110</td>\n",
       "      <td>30</td>\n",
       "      <td>17</td>\n",
       "      <td>20</td>\n",
       "      <td>7874.68</td>\n",
       "      <td>1.0</td>\n",
       "    </tr>\n",
       "    <tr>\n",
       "      <th>5</th>\n",
       "      <td>2022-01-24</td>\n",
       "      <td>2023-06-02</td>\n",
       "      <td>43</td>\n",
       "      <td>Male</td>\n",
       "      <td>East Matthewfort</td>\n",
       "      <td>161</td>\n",
       "      <td>2</td>\n",
       "      <td>7</td>\n",
       "      <td>24</td>\n",
       "      <td>15524.55</td>\n",
       "      <td>NaN</td>\n",
       "    </tr>\n",
       "    <tr>\n",
       "      <th>...</th>\n",
       "      <td>...</td>\n",
       "      <td>...</td>\n",
       "      <td>...</td>\n",
       "      <td>...</td>\n",
       "      <td>...</td>\n",
       "      <td>...</td>\n",
       "      <td>...</td>\n",
       "      <td>...</td>\n",
       "      <td>...</td>\n",
       "      <td>...</td>\n",
       "      <td>...</td>\n",
       "    </tr>\n",
       "    <tr>\n",
       "      <th>9996</th>\n",
       "      <td>2022-12-16</td>\n",
       "      <td>2023-08-13</td>\n",
       "      <td>42</td>\n",
       "      <td>Female</td>\n",
       "      <td>Johnstonborough</td>\n",
       "      <td>119</td>\n",
       "      <td>47</td>\n",
       "      <td>16</td>\n",
       "      <td>10</td>\n",
       "      <td>5498.20</td>\n",
       "      <td>NaN</td>\n",
       "    </tr>\n",
       "    <tr>\n",
       "      <th>9997</th>\n",
       "      <td>2022-07-09</td>\n",
       "      <td>2023-01-25</td>\n",
       "      <td>26</td>\n",
       "      <td>Male</td>\n",
       "      <td>Jessicamouth</td>\n",
       "      <td>3</td>\n",
       "      <td>33</td>\n",
       "      <td>14</td>\n",
       "      <td>12</td>\n",
       "      <td>5848.30</td>\n",
       "      <td>1.0</td>\n",
       "    </tr>\n",
       "    <tr>\n",
       "      <th>9998</th>\n",
       "      <td>2023-09-17</td>\n",
       "      <td>2024-01-30</td>\n",
       "      <td>39</td>\n",
       "      <td>Male</td>\n",
       "      <td>New John</td>\n",
       "      <td>53</td>\n",
       "      <td>17</td>\n",
       "      <td>5</td>\n",
       "      <td>3</td>\n",
       "      <td>3503.13</td>\n",
       "      <td>1.0</td>\n",
       "    </tr>\n",
       "    <tr>\n",
       "      <th>9999</th>\n",
       "      <td>2022-05-10</td>\n",
       "      <td>2022-07-15</td>\n",
       "      <td>31</td>\n",
       "      <td>Female</td>\n",
       "      <td>Andrewland</td>\n",
       "      <td>23</td>\n",
       "      <td>5</td>\n",
       "      <td>4</td>\n",
       "      <td>12</td>\n",
       "      <td>6721.86</td>\n",
       "      <td>NaN</td>\n",
       "    </tr>\n",
       "    <tr>\n",
       "      <th>10000</th>\n",
       "      <td>2023-05-26</td>\n",
       "      <td>2023-09-01</td>\n",
       "      <td>67</td>\n",
       "      <td>Male</td>\n",
       "      <td>Hollytown</td>\n",
       "      <td>12</td>\n",
       "      <td>12</td>\n",
       "      <td>7</td>\n",
       "      <td>10</td>\n",
       "      <td>5775.83</td>\n",
       "      <td>1.0</td>\n",
       "    </tr>\n",
       "  </tbody>\n",
       "</table>\n",
       "<p>10000 rows × 11 columns</p>\n",
       "</div>"
      ],
      "text/plain": [
       "              join_date last_purchase_date  age  gender           location  \\\n",
       "customer_id                                                                  \n",
       "1            2023-11-20         2024-03-17   56  Female  North Shannonbury   \n",
       "2            2021-09-08         2023-10-25   43    Male          Hillville   \n",
       "3            2021-06-01         2022-11-27   43   Other   North Latoyatown   \n",
       "4            2022-01-01         2022-09-01   29    Male          Grossstad   \n",
       "5            2022-01-24         2023-06-02   43    Male   East Matthewfort   \n",
       "...                 ...                ...  ...     ...                ...   \n",
       "9996         2022-12-16         2023-08-13   42  Female    Johnstonborough   \n",
       "9997         2022-07-09         2023-01-25   26    Male       Jessicamouth   \n",
       "9998         2023-09-17         2024-01-30   39    Male           New John   \n",
       "9999         2022-05-10         2022-07-15   31  Female         Andrewland   \n",
       "10000        2023-05-26         2023-09-01   67    Male          Hollytown   \n",
       "\n",
       "             number_of_site_visits  number_of_emails_opened  number_of_clicks  \\\n",
       "customer_id                                                                     \n",
       "1                               10                       15                 1   \n",
       "2                              285                       49                51   \n",
       "3                              192                       73                25   \n",
       "4                              110                       30                17   \n",
       "5                              161                        2                 7   \n",
       "...                            ...                      ...               ...   \n",
       "9996                           119                       47                16   \n",
       "9997                             3                       33                14   \n",
       "9998                            53                       17                 5   \n",
       "9999                            23                        5                 4   \n",
       "10000                           12                       12                 7   \n",
       "\n",
       "             transaction_id  transaction_amount  campaign_id  \n",
       "customer_id                                                   \n",
       "1                         6             3509.48          1.0  \n",
       "2                         9             6081.32          2.0  \n",
       "3                         6             1454.87          1.0  \n",
       "4                        20             7874.68          1.0  \n",
       "5                        24            15524.55          NaN  \n",
       "...                     ...                 ...          ...  \n",
       "9996                     10             5498.20          NaN  \n",
       "9997                     12             5848.30          1.0  \n",
       "9998                      3             3503.13          1.0  \n",
       "9999                     12             6721.86          NaN  \n",
       "10000                    10             5775.83          1.0  \n",
       "\n",
       "[10000 rows x 11 columns]"
      ]
     },
     "execution_count": 451,
     "metadata": {},
     "output_type": "execute_result"
    }
   ],
   "source": [
    "# now have a customer level data set;  you will see some NaN values under campaign_id because some customers haven't been targeted with any marketing campaigns\n",
    "joint_data"
   ]
  },
  {
   "cell_type": "code",
   "execution_count": null,
   "metadata": {},
   "outputs": [],
   "source": [
    "joint_data_yes.info()"
   ]
  },
  {
   "cell_type": "code",
   "execution_count": null,
   "metadata": {},
   "outputs": [],
   "source": [
    "#set missing campaign id as 0 to mark the customer who are not target for campaign\n",
    "joint_data_yes['campaign_id']= joint_data_yes['campaign_id'].fillna(0)\n",
    "joint_data_yes"
   ]
  },
  {
   "cell_type": "code",
   "execution_count": null,
   "metadata": {},
   "outputs": [],
   "source": [
    "joint_data_yes.info()"
   ]
  },
  {
   "cell_type": "markdown",
   "metadata": {},
   "source": [
    "Feature engineering"
   ]
  },
  {
   "cell_type": "code",
   "execution_count": null,
   "metadata": {},
   "outputs": [],
   "source": [
    "sns.histplot(joint_data_yes['transaction_amount'])"
   ]
  },
  {
   "cell_type": "code",
   "execution_count": null,
   "metadata": {},
   "outputs": [],
   "source": [
    "sns.histplot(joint_data_yes['campaign_id'])"
   ]
  },
  {
   "cell_type": "code",
   "execution_count": null,
   "metadata": {},
   "outputs": [],
   "source": [
    "#create a new column named 'average_purchase_value'\n",
    "joint_data_yes['avg_purchase_per_transaction'] = joint_data_yes['transaction_amount']/joint_data_yes['transaction_id']\n",
    "joint_data_yes"
   ]
  },
  {
   "cell_type": "code",
   "execution_count": null,
   "metadata": {},
   "outputs": [],
   "source": [
    "#create column 'customer_lifespan' in months\n",
    "joint_data_yes['customer_lifespan'] = ((joint_data_yes['last_purchase_date'] - joint_data_yes['join_date']).dt.days / 365).round(2)"
   ]
  },
  {
   "cell_type": "code",
   "execution_count": null,
   "metadata": {},
   "outputs": [],
   "source": [
    "sns.histplot(joint_data_yes['customer_lifespan'])"
   ]
  },
  {
   "cell_type": "code",
   "execution_count": null,
   "metadata": {},
   "outputs": [],
   "source": [
    "from sklearn.preprocessing import StandardScaler,LabelEncoder\n",
    "\n",
    "#label encode categorical data\n",
    "le = LabelEncoder()\n",
    "joint_data_yes['gender']=le.fit_transform(joint_data_yes['gender'])\n",
    "joint_data_yes['location']=le.fit_transform(joint_data_yes['location'])\n",
    "joint_data_yes"
   ]
  },
  {
   "cell_type": "code",
   "execution_count": null,
   "metadata": {},
   "outputs": [],
   "source": [
    "#check if there is zero value in customer_lifespan\n",
    "joint_data_yes[joint_data_yes['customer_lifespan'] == 0]"
   ]
  },
  {
   "cell_type": "code",
   "execution_count": null,
   "metadata": {},
   "outputs": [],
   "source": [
    "df1 = joint_data_yes[joint_data_yes['customer_lifespan'] != 0]"
   ]
  },
  {
   "cell_type": "code",
   "execution_count": null,
   "metadata": {},
   "outputs": [],
   "source": [
    "df1"
   ]
  },
  {
   "cell_type": "code",
   "execution_count": null,
   "metadata": {},
   "outputs": [],
   "source": [
    "df1.describe()"
   ]
  },
  {
   "cell_type": "code",
   "execution_count": null,
   "metadata": {},
   "outputs": [],
   "source": [
    "#Customer Lifetime Value = (transaction sum / Customer Lifespan)\n",
    "#creating lifetime value per year per customer\n",
    "df1['customer_lifetime_value'] = (df1['transaction_amount']/df1['customer_lifespan']).round(2)"
   ]
  },
  {
   "cell_type": "code",
   "execution_count": null,
   "metadata": {},
   "outputs": [],
   "source": [
    "df1"
   ]
  },
  {
   "cell_type": "markdown",
   "metadata": {},
   "source": [
    "Creating FRM to classify customer value"
   ]
  },
  {
   "cell_type": "code",
   "execution_count": null,
   "metadata": {},
   "outputs": [],
   "source": [
    "import datetime as dt\n",
    "\n",
    "# Convert transaction_date to datetime\n",
    "transactions['transaction_date'] = pd.to_datetime(transactions['transaction_date'])\n",
    "\n",
    "# Calculate Recency, Frequency, and Monetary\n",
    "snapshot_date = transactions['transaction_date'].max() + pd.DateOffset(1)\n",
    "\n",
    "# Recency: Days since last transaction\n",
    "rfm_recency = customer['last_purchase_date'].reset_index()\n",
    "rfm_recency['recency'] = (snapshot_date - rfm_recency['last_purchase_date']).dt.days\n",
    "rfm_recency"
   ]
  },
  {
   "cell_type": "code",
   "execution_count": null,
   "metadata": {},
   "outputs": [],
   "source": [
    "# Frequency: Number of transactions\n",
    "rfm_frequency = transactions.groupby('customer_id')['transaction_id'].count().reset_index()\n",
    "rfm_frequency.columns = ['customer_id', 'frequency']"
   ]
  },
  {
   "cell_type": "code",
   "execution_count": null,
   "metadata": {},
   "outputs": [],
   "source": [
    "rfm_monetary "
   ]
  },
  {
   "cell_type": "code",
   "execution_count": null,
   "metadata": {},
   "outputs": [],
   "source": [
    "# Monetary: Total amount spent\n",
    "rfm_monetary = transactions.groupby('customer_id')['transaction_amount'].sum().reset_index()\n",
    "rfm_monetary.columns = ['customer_id', 'monetary']\n",
    "\n",
    "# Merge RFM metrics into a single DataFrame\n",
    "rfm = rfm_recency.merge(rfm_frequency, on='customer_id').merge(rfm_monetary, on='customer_id')\n",
    "\n",
    "rfm.head()\n"
   ]
  },
  {
   "cell_type": "code",
   "execution_count": null,
   "metadata": {},
   "outputs": [],
   "source": [
    "# Define quantile thresholds for Recency, Frequency, and Monetary\n",
    "quantiles = rfm[['recency', 'frequency', 'monetary']].quantile([0.25, 0.75]).to_dict()\n",
    "\n",
    "# Define a function to assign scores based on quantiles\n",
    "def rfm_score(x,a,b):\n",
    "    if x <= a[b][0.25]:\n",
    "        return 1\n",
    "    elif x <= a[b][0.75]:\n",
    "        return 2\n",
    "    else:\n",
    "        return 3\n",
    "\n",
    "# Calculate R, F, M scores\n",
    "rfm['R'] = rfm['recency'].apply(rfm_score, args=(quantiles, 'recency'))\n",
    "rfm['F'] = rfm['frequency'].apply(rfm_score, args=(quantiles, 'frequency'))\n",
    "rfm['M'] = rfm['monetary'].apply(rfm_score, args=(quantiles, 'monetary'))\n",
    "\n",
    "# Calculate RFM score\n",
    "rfm['RFM_Score'] = rfm['R'].astype(str) + rfm['F'].astype(str) + rfm['M'].astype(str)\n",
    "\n",
    "# Classify customers into High, Medium, Low value categories\n",
    "def classify_customer(rfm_score):\n",
    "    if rfm_score in ['333', '332', '323', '322', '233', '232']:\n",
    "        return 'High'\n",
    "    elif rfm_score in ['311', '321', '312', '231', '221', '213']:\n",
    "        return 'Medium'\n",
    "    else:\n",
    "        return 'Low'\n",
    "\n",
    "rfm['Customer_Value'] = rfm['RFM_Score'].apply(classify_customer)\n",
    "\n",
    "\n",
    "rfm.head()\n"
   ]
  },
  {
   "cell_type": "code",
   "execution_count": null,
   "metadata": {},
   "outputs": [],
   "source": [
    "df1"
   ]
  },
  {
   "cell_type": "code",
   "execution_count": null,
   "metadata": {},
   "outputs": [],
   "source": [
    "rfm.set_index('customer_id', inplace=True)\n",
    "df1.set_index('customer_id', inplace=True)"
   ]
  },
  {
   "cell_type": "code",
   "execution_count": null,
   "metadata": {},
   "outputs": [],
   "source": [
    "df2 = df1.join(rfm['Customer_Value'])"
   ]
  },
  {
   "cell_type": "code",
   "execution_count": null,
   "metadata": {},
   "outputs": [],
   "source": [
    "# Compute the correlation matrix\n",
    "correlation_matrix = df1.drop(columns=['join_date','last_purchase_date','avg_purchase_per_transaction','customer_lifespan','customer_lifetime_value']).corr()\n",
    "\n",
    "# Plot the correlation matrix\n",
    "plt.figure(figsize=(10, 8))\n",
    "sns.heatmap(correlation_matrix, annot=True, cmap='coolwarm', vmin=-1, vmax=1)\n",
    "plt.title('Correlation Matrix')\n",
    "plt.show()"
   ]
  },
  {
   "cell_type": "markdown",
   "metadata": {},
   "source": [
    "Modeling - using binary output"
   ]
  },
  {
   "cell_type": "code",
   "execution_count": null,
   "metadata": {},
   "outputs": [],
   "source": [
    "sns.histplot(df1['customer_lifetime_value'])"
   ]
  },
  {
   "cell_type": "code",
   "execution_count": null,
   "metadata": {},
   "outputs": [],
   "source": [
    "#as the customer staying longer with the company, they have the chance to have higher transactions\n",
    "#so I classify the customer_lifetime based on the mean()\n",
    "df1['customer_lifetime_value'].median()"
   ]
  },
  {
   "cell_type": "code",
   "execution_count": null,
   "metadata": {},
   "outputs": [],
   "source": [
    "df1['customer_lifetime_value'].mean()"
   ]
  },
  {
   "cell_type": "code",
   "execution_count": null,
   "metadata": {},
   "outputs": [],
   "source": [
    "#take the mean as proxy to split out put to 1 and 0\n",
    "df1['binary_output'] = df1['customer_lifetime_value'].apply(lambda x: 1 if x>=8212 else 0)"
   ]
  },
  {
   "cell_type": "code",
   "execution_count": null,
   "metadata": {},
   "outputs": [],
   "source": [
    "df1.groupby('binary_output')['customer_lifetime_value'].count()/len(df1)"
   ]
  },
  {
   "cell_type": "code",
   "execution_count": null,
   "metadata": {},
   "outputs": [],
   "source": [
    "df1"
   ]
  },
  {
   "cell_type": "code",
   "execution_count": null,
   "metadata": {},
   "outputs": [],
   "source": [
    "sns.boxplot(x='binary_output',y='number_of_clicks',data=df1)"
   ]
  },
  {
   "cell_type": "code",
   "execution_count": null,
   "metadata": {},
   "outputs": [],
   "source": [
    "sns.boxplot(x='binary_output',y='transaction_amount',data=df1)"
   ]
  },
  {
   "cell_type": "code",
   "execution_count": null,
   "metadata": {},
   "outputs": [],
   "source": [
    "X = df1[['age','gender','location','number_of_site_visits','number_of_emails_opened','number_of_clicks','campaign_id',]]\n",
    "\n",
    "y = df1['binary_output']"
   ]
  },
  {
   "cell_type": "code",
   "execution_count": null,
   "metadata": {},
   "outputs": [],
   "source": [
    "from sklearn.model_selection import train_test_split, cross_val_score\n",
    "from sklearn.metrics import f1_score, PrecisionRecallDisplay, precision_score, recall_score, roc_auc_score, RocCurveDisplay, roc_curve, confusion_matrix\n",
    "from sklearn.linear_model import LogisticRegression\n",
    "from sklearn.neighbors import KNeighborsClassifier, KNeighborsRegressor"
   ]
  },
  {
   "cell_type": "code",
   "execution_count": null,
   "metadata": {},
   "outputs": [],
   "source": [
    "X_train, X_test, y_train, y_test = train_test_split(X,y, test_size=0.3,random_state=1234)"
   ]
  },
  {
   "cell_type": "code",
   "execution_count": null,
   "metadata": {},
   "outputs": [],
   "source": [
    "#cross validation - divide dataset to 5 sections, train 4 sections and test 1 section, repeat the process 5 times\n",
    "#quickly create 5 models and pick the best one\n",
    "\n",
    "knn = KNeighborsClassifier()\n",
    "log = LogisticRegression()\n",
    "\n",
    "\n",
    "scores_log = cross_val_score(log, X_train, y_train, scoring='f1', cv=5)\n",
    "scores_knn = cross_val_score(knn, X_train, y_train, scoring='f1', cv=5)\n"
   ]
  },
  {
   "cell_type": "code",
   "execution_count": null,
   "metadata": {},
   "outputs": [],
   "source": [
    "print(f'Cross-Validated Scores for Logistic Regression:{scores_log}')\n",
    "print(f'Cross-Validated Scores for K Nearest Neighbor:{scores_knn}')"
   ]
  },
  {
   "cell_type": "code",
   "execution_count": null,
   "metadata": {},
   "outputs": [],
   "source": [
    "#calculate average score\n",
    "print(np.mean(scores_log))\n",
    "print(np.mean(scores_knn))"
   ]
  },
  {
   "cell_type": "code",
   "execution_count": null,
   "metadata": {},
   "outputs": [],
   "source": [
    "#building an actual model\n",
    "logreg = log.fit(X_train, y_train)\n",
    "KNN = knn.fit(X_train, y_train)"
   ]
  },
  {
   "cell_type": "code",
   "execution_count": null,
   "metadata": {},
   "outputs": [],
   "source": [
    "y_pred_log=logreg.predict(X_test)\n",
    "y_pred_knn=KNN.predict(X_test)"
   ]
  },
  {
   "cell_type": "code",
   "execution_count": null,
   "metadata": {},
   "outputs": [],
   "source": [
    "from sklearn.metrics import accuracy_score\n",
    "\n",
    "#logreg score\n",
    "print(accuracy_score(y_test,y_pred_log))\n",
    "print(precision_score(y_test,y_pred_log))\n",
    "print(f1_score(y_test,y_pred_log))\n"
   ]
  },
  {
   "cell_type": "code",
   "execution_count": null,
   "metadata": {},
   "outputs": [],
   "source": [
    "#knn score\n",
    "print(accuracy_score(y_test,y_pred_knn))\n",
    "print(precision_score(y_test,y_pred_knn))\n",
    "print(f1_score(y_test,y_pred_knn))"
   ]
  },
  {
   "cell_type": "code",
   "execution_count": null,
   "metadata": {},
   "outputs": [],
   "source": [
    "# Import necessary libraries\n",
    "from sklearn.metrics import roc_curve, auc, precision_recall_curve, RocCurveDisplay, PrecisionRecallDisplay\n",
    "from sklearn.neighbors import KNeighborsClassifier\n",
    "import matplotlib.pyplot as plt\n",
    "\n",
    "# Plot ROC and Precision-Recall curves for Logistic Regression\n",
    "probs_log = logreg.predict_proba(X_test)\n",
    "fpr_log, tpr_log, _ = roc_curve(y_test, probs_log[:, 1])\n",
    "precision_log, recall_log, _ = precision_recall_curve(y_test, probs_log[:, 1])\n",
    "roc_auc_log = roc_auc_score(y_test, probs_log[:, 1])\n",
    "pr_auc_log = auc(recall_log, precision_log)\n",
    "\n",
    "plt.figure(figsize=(10, 5))\n",
    "RocCurveDisplay(fpr=fpr_log, tpr=tpr_log, roc_auc=roc_auc_log, estimator_name='Logistic Regression').plot()\n",
    "plt.title('ROC Curve - Logistic Regression')\n",
    "plt.show()\n",
    "\n",
    "plt.figure(figsize=(10, 5))\n",
    "PrecisionRecallDisplay(precision=precision_log, recall=recall_log, average_precision=pr_auc_log, estimator_name='Logistic Regression').plot()\n",
    "plt.title('Precision-Recall Curve - Logistic Regression')\n",
    "plt.show()\n"
   ]
  },
  {
   "cell_type": "code",
   "execution_count": null,
   "metadata": {},
   "outputs": [],
   "source": [
    "# Plot ROC and Precision-Recall curves for KNN\n",
    "probs_knn = KNN.predict_proba(X_test)\n",
    "fpr_knn, tpr_knn, _ = roc_curve(y_test, probs_knn[:, 1])\n",
    "precision_knn, recall_knn, _ = precision_recall_curve(y_test, probs_knn[:, 1])\n",
    "roc_auc_knn = roc_auc_score(y_test, probs_knn[:, 1])\n",
    "pr_auc_knn = auc(recall_knn, precision_knn)\n",
    "\n",
    "plt.figure(figsize=(10, 5))\n",
    "RocCurveDisplay(fpr=fpr_knn, tpr=tpr_knn, roc_auc=roc_auc_knn, estimator_name='KNN').plot()\n",
    "plt.title('ROC Curve - KNN')\n",
    "plt.show()\n",
    "\n",
    "plt.figure(figsize=(10, 5))\n",
    "PrecisionRecallDisplay(precision=precision_knn, recall=recall_knn, average_precision=pr_auc_knn, estimator_name='KNN').plot()\n",
    "plt.title('Precision-Recall Curve - KNN')\n",
    "plt.show()"
   ]
  },
  {
   "cell_type": "markdown",
   "metadata": {},
   "source": [
    "By compare the two models between Logistic Regression and KNN, the Logistic Regression Model perform better"
   ]
  },
  {
   "cell_type": "code",
   "execution_count": null,
   "metadata": {},
   "outputs": [],
   "source": [
    "scaler = StandardScaler()\n",
    "X_scaled = scaler.fit_transform(X)"
   ]
  },
  {
   "cell_type": "code",
   "execution_count": null,
   "metadata": {},
   "outputs": [],
   "source": [
    "from sklearn.linear_model import LogisticRegression\n",
    "from sklearn.neighbors import KNeighborsClassifier\n",
    "from sklearn.model_selection import GridSearchCV\n",
    "\n",
    "# Logistic Regression hyperparameter tuning\n",
    "lr = LogisticRegression()\n",
    "param_grid_lr = {\n",
    "    'C': [0.1, 1, 10, 100],\n",
    "    'solver': ['liblinear', 'lbfgs']\n",
    "}\n",
    "grid_lr = GridSearchCV(lr, param_grid_lr, cv=5, scoring='roc_auc')\n",
    "grid_lr.fit(X_train, y_train)\n",
    "best_lr = grid_lr.best_estimator_\n",
    "\n",
    "# KNN hyperparameter tuning\n",
    "knn = KNeighborsClassifier()\n",
    "param_grid_knn = {\n",
    "    'n_neighbors': [3, 5, 7, 9],\n",
    "    'weights': ['uniform', 'distance']\n",
    "}\n",
    "grid_knn = GridSearchCV(knn, param_grid_knn, cv=5, scoring='roc_auc')\n",
    "grid_knn.fit(X_train, y_train)\n",
    "best_knn = grid_knn.best_estimator_"
   ]
  },
  {
   "cell_type": "code",
   "execution_count": null,
   "metadata": {},
   "outputs": [],
   "source": [
    "from sklearn.metrics import roc_auc_score, accuracy_score, f1_score, precision_score, recall_score\n",
    "from sklearn.model_selection import cross_val_score\n",
    "\n",
    "# Evaluate Logistic Regression\n",
    "y_pred_lr = best_lr.predict(X_test)\n",
    "y_prob_lr = best_lr.predict_proba(X_test)[:, 1]\n",
    "\n",
    "accuracy_lr = accuracy_score(y_test, y_pred_lr)\n",
    "f1_lr = f1_score(y_test, y_pred_lr)\n",
    "precision_lr = precision_score(y_test, y_pred_lr)\n",
    "recall_lr = recall_score(y_test, y_pred_lr)\n",
    "roc_auc_lr = roc_auc_score(y_test, y_prob_lr)\n",
    "\n",
    "# Evaluate KNN\n",
    "y_pred_knn = best_knn.predict(X_test)\n",
    "y_prob_knn = best_knn.predict_proba(X_test)[:, 1]\n",
    "\n",
    "accuracy_knn = accuracy_score(y_test, y_pred_knn)\n",
    "f1_knn = f1_score(y_test, y_pred_knn)\n",
    "precision_knn = precision_score(y_test, y_pred_knn)\n",
    "recall_knn = recall_score(y_test, y_pred_knn)\n",
    "roc_auc_knn = roc_auc_score(y_test, y_prob_knn)\n",
    "\n",
    "# Cross-validation scores\n",
    "cv_scores_lr = cross_val_score(best_lr, X_scaled, y, cv=5, scoring='roc_auc')\n",
    "cv_scores_knn = cross_val_score(best_knn, X_scaled, y, cv=5, scoring='roc_auc')\n"
   ]
  },
  {
   "cell_type": "code",
   "execution_count": null,
   "metadata": {},
   "outputs": [],
   "source": [
    "import matplotlib.pyplot as plt\n",
    "from sklearn.metrics import RocCurveDisplay, PrecisionRecallDisplay, confusion_matrix, ConfusionMatrixDisplay\n",
    "\n",
    "# ROC Curve for Logistic Regression\n",
    "RocCurveDisplay.from_estimator(best_lr, X_test, y_test)\n",
    "plt.title('ROC Curve - Logistic Regression')\n",
    "plt.show()\n",
    "\n",
    "# Precision-Recall Curve for Logistic Regression\n",
    "PrecisionRecallDisplay.from_estimator(best_lr, X_test, y_test)\n",
    "plt.title('Precision-Recall Curve - Logistic Regression')\n",
    "plt.show()\n",
    "\n",
    "# Confusion Matrix for Logistic Regression\n",
    "ConfusionMatrixDisplay.from_estimator(best_lr, X_test, y_test)\n",
    "plt.title('Confusion Matrix - Logistic Regression')\n",
    "plt.show()\n",
    "\n",
    "# ROC Curve for KNN\n",
    "RocCurveDisplay.from_estimator(best_knn, X_test, y_test)\n",
    "plt.title('ROC Curve - KNN')\n",
    "plt.show()\n",
    "\n",
    "# Precision-Recall Curve for KNN\n",
    "PrecisionRecallDisplay.from_estimator(best_knn, X_test, y_test)\n",
    "plt.title('Precision-Recall Curve - KNN')\n",
    "plt.show()\n",
    "\n",
    "# Confusion Matrix for KNN\n",
    "ConfusionMatrixDisplay.from_estimator(best_knn, X_test, y_test)\n",
    "plt.title('Confusion Matrix - KNN')\n",
    "plt.show()\n"
   ]
  }
 ],
 "metadata": {
  "kernelspec": {
   "display_name": "base",
   "language": "python",
   "name": "python3"
  },
  "language_info": {
   "codemirror_mode": {
    "name": "ipython",
    "version": 3
   },
   "file_extension": ".py",
   "mimetype": "text/x-python",
   "name": "python",
   "nbconvert_exporter": "python",
   "pygments_lexer": "ipython3",
   "version": "3.11.5"
  }
 },
 "nbformat": 4,
 "nbformat_minor": 2
}
