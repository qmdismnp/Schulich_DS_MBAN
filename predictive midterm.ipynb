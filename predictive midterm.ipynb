{
 "cells": [
  {
   "cell_type": "code",
   "execution_count": 120,
   "metadata": {},
   "outputs": [],
   "source": [
    "import numpy as np\n",
    "import pandas as pd\n",
    "import matplotlib as mp\n",
    "import statsmodels.api as sm\n",
    "\n",
    "from statsmodels.sandbox.regression.gmm import IV2SLS \n",
    "# There is a package named IV2SLS in Python. Do not use this package! The exogenous explanatory variables must\n",
    "# be entered as instruments. So it gives wrong answers\n",
    "from statsmodels.sandbox.regression.gmm import GMM\n"
   ]
  },
  {
   "cell_type": "code",
   "execution_count": 121,
   "metadata": {},
   "outputs": [],
   "source": [
    "data = pd.read_csv('C:/Users/User/Desktop/midterm_partone.csv')"
   ]
  },
  {
   "cell_type": "code",
   "execution_count": 122,
   "metadata": {},
   "outputs": [
    {
     "data": {
      "text/html": [
       "<div>\n",
       "<style scoped>\n",
       "    .dataframe tbody tr th:only-of-type {\n",
       "        vertical-align: middle;\n",
       "    }\n",
       "\n",
       "    .dataframe tbody tr th {\n",
       "        vertical-align: top;\n",
       "    }\n",
       "\n",
       "    .dataframe thead th {\n",
       "        text-align: right;\n",
       "    }\n",
       "</style>\n",
       "<table border=\"1\" class=\"dataframe\">\n",
       "  <thead>\n",
       "    <tr style=\"text-align: right;\">\n",
       "      <th></th>\n",
       "      <th>Constant</th>\n",
       "      <th>Stock Change</th>\n",
       "      <th>Inventory Turnover</th>\n",
       "      <th>Operating Profit</th>\n",
       "      <th>Interaction Effect</th>\n",
       "      <th>Current Ratio</th>\n",
       "      <th>Quick Ratio</th>\n",
       "      <th>Debt Asset Ratio</th>\n",
       "    </tr>\n",
       "  </thead>\n",
       "  <tbody>\n",
       "    <tr>\n",
       "      <th>0</th>\n",
       "      <td>1</td>\n",
       "      <td>0.870332</td>\n",
       "      <td>1.795946</td>\n",
       "      <td>0.115846</td>\n",
       "      <td>0.208053</td>\n",
       "      <td>1.672527</td>\n",
       "      <td>0.255171</td>\n",
       "      <td>0.473317</td>\n",
       "    </tr>\n",
       "    <tr>\n",
       "      <th>1</th>\n",
       "      <td>1</td>\n",
       "      <td>-0.047347</td>\n",
       "      <td>1.395501</td>\n",
       "      <td>0.436967</td>\n",
       "      <td>0.609788</td>\n",
       "      <td>1.637261</td>\n",
       "      <td>0.221763</td>\n",
       "      <td>0.489967</td>\n",
       "    </tr>\n",
       "    <tr>\n",
       "      <th>2</th>\n",
       "      <td>1</td>\n",
       "      <td>0.001176</td>\n",
       "      <td>1.664563</td>\n",
       "      <td>0.541016</td>\n",
       "      <td>0.900555</td>\n",
       "      <td>1.640619</td>\n",
       "      <td>0.189141</td>\n",
       "      <td>0.374269</td>\n",
       "    </tr>\n",
       "    <tr>\n",
       "      <th>3</th>\n",
       "      <td>1</td>\n",
       "      <td>-0.901200</td>\n",
       "      <td>1.605738</td>\n",
       "      <td>0.539399</td>\n",
       "      <td>0.866133</td>\n",
       "      <td>1.436221</td>\n",
       "      <td>0.131944</td>\n",
       "      <td>0.224399</td>\n",
       "    </tr>\n",
       "    <tr>\n",
       "      <th>4</th>\n",
       "      <td>1</td>\n",
       "      <td>-0.176353</td>\n",
       "      <td>1.591451</td>\n",
       "      <td>0.539938</td>\n",
       "      <td>0.859285</td>\n",
       "      <td>1.433140</td>\n",
       "      <td>0.183095</td>\n",
       "      <td>0.213446</td>\n",
       "    </tr>\n",
       "  </tbody>\n",
       "</table>\n",
       "</div>"
      ],
      "text/plain": [
       "   Constant  Stock Change  Inventory Turnover  Operating Profit  \\\n",
       "0         1      0.870332            1.795946          0.115846   \n",
       "1         1     -0.047347            1.395501          0.436967   \n",
       "2         1      0.001176            1.664563          0.541016   \n",
       "3         1     -0.901200            1.605738          0.539399   \n",
       "4         1     -0.176353            1.591451          0.539938   \n",
       "\n",
       "   Interaction Effect  Current Ratio  Quick Ratio  Debt Asset Ratio  \n",
       "0            0.208053       1.672527     0.255171          0.473317  \n",
       "1            0.609788       1.637261     0.221763          0.489967  \n",
       "2            0.900555       1.640619     0.189141          0.374269  \n",
       "3            0.866133       1.436221     0.131944          0.224399  \n",
       "4            0.859285       1.433140     0.183095          0.213446  "
      ]
     },
     "execution_count": 122,
     "metadata": {},
     "output_type": "execute_result"
    }
   ],
   "source": [
    "data.head()"
   ]
  },
  {
   "cell_type": "code",
   "execution_count": 123,
   "metadata": {},
   "outputs": [],
   "source": [
    "model_iv = sm.OLS(data[\"Inventory Turnover\"],data[[\"Constant\",\"Current Ratio\",\"Quick Ratio\",\\\n",
    "                                                                 \"Debt Asset Ratio\"]]).fit()\n",
    "\n",
    "endog_predict = model_iv.predict(data[[\"Constant\",\"Current Ratio\",\"Quick Ratio\",\"Debt Asset Ratio\"]])\n",
    "data[\"Endogenous Param\"] = endog_predict"
   ]
  },
  {
   "cell_type": "code",
   "execution_count": 124,
   "metadata": {},
   "outputs": [
    {
     "name": "stdout",
     "output_type": "stream",
     "text": [
      "                            OLS Regression Results                            \n",
      "==============================================================================\n",
      "Dep. Variable:           Stock Change   R-squared:                       0.015\n",
      "Model:                            OLS   Adj. R-squared:                  0.013\n",
      "Method:                 Least Squares   F-statistic:                     8.530\n",
      "Date:                Sat, 09 Nov 2024   Prob (F-statistic):           1.27e-05\n",
      "Time:                        17:38:01   Log-Likelihood:                -1186.5\n",
      "No. Observations:                1696   AIC:                             2381.\n",
      "Df Residuals:                    1692   BIC:                             2403.\n",
      "Df Model:                           3                                         \n",
      "Covariance Type:            nonrobust                                         \n",
      "======================================================================================\n",
      "                         coef    std err          t      P>|t|      [0.025      0.975]\n",
      "--------------------------------------------------------------------------------------\n",
      "Constant              -0.0176      0.020     -0.896      0.370      -0.056       0.021\n",
      "Endogenous Param       0.0011      0.001      1.827      0.068   -7.76e-05       0.002\n",
      "Operating Profit      -0.1201      0.028     -4.319      0.000      -0.175      -0.066\n",
      "Interaction Effect     0.0014      0.000      3.621      0.000       0.001       0.002\n",
      "==============================================================================\n",
      "Omnibus:                      368.832   Durbin-Watson:                   2.243\n",
      "Prob(Omnibus):                  0.000   Jarque-Bera (JB):             3433.920\n",
      "Skew:                           0.742   Prob(JB):                         0.00\n",
      "Kurtosis:                       9.811   Cond. No.                         109.\n",
      "==============================================================================\n",
      "\n",
      "Notes:\n",
      "[1] Standard Errors assume that the covariance matrix of the errors is correctly specified.\n"
     ]
    }
   ],
   "source": [
    "model_2sls = sm.OLS(data[\"Stock Change\"], data[[\"Constant\",\"Endogenous Param\",\\\n",
    "                                                              \"Operating Profit\",\"Interaction Effect\",\\\n",
    "                                                             ]]).fit()\n",
    "print(model_2sls.summary())"
   ]
  },
  {
   "cell_type": "code",
   "execution_count": 125,
   "metadata": {},
   "outputs": [
    {
     "data": {
      "text/html": [
       "<div>\n",
       "<style scoped>\n",
       "    .dataframe tbody tr th:only-of-type {\n",
       "        vertical-align: middle;\n",
       "    }\n",
       "\n",
       "    .dataframe tbody tr th {\n",
       "        vertical-align: top;\n",
       "    }\n",
       "\n",
       "    .dataframe thead th {\n",
       "        text-align: right;\n",
       "    }\n",
       "</style>\n",
       "<table border=\"1\" class=\"dataframe\">\n",
       "  <thead>\n",
       "    <tr style=\"text-align: right;\">\n",
       "      <th></th>\n",
       "      <th>Constant</th>\n",
       "      <th>Stock Change</th>\n",
       "      <th>Inventory Turnover</th>\n",
       "      <th>Operating Profit</th>\n",
       "      <th>Interaction Effect</th>\n",
       "      <th>Current Ratio</th>\n",
       "      <th>Quick Ratio</th>\n",
       "      <th>Debt Asset Ratio</th>\n",
       "      <th>Endogenous Param</th>\n",
       "    </tr>\n",
       "  </thead>\n",
       "  <tbody>\n",
       "    <tr>\n",
       "      <th>0</th>\n",
       "      <td>1</td>\n",
       "      <td>0.870332</td>\n",
       "      <td>1.795946</td>\n",
       "      <td>0.115846</td>\n",
       "      <td>0.208053</td>\n",
       "      <td>1.672527</td>\n",
       "      <td>0.255171</td>\n",
       "      <td>0.473317</td>\n",
       "      <td>10.724599</td>\n",
       "    </tr>\n",
       "    <tr>\n",
       "      <th>1</th>\n",
       "      <td>1</td>\n",
       "      <td>-0.047347</td>\n",
       "      <td>1.395501</td>\n",
       "      <td>0.436967</td>\n",
       "      <td>0.609788</td>\n",
       "      <td>1.637261</td>\n",
       "      <td>0.221763</td>\n",
       "      <td>0.489967</td>\n",
       "      <td>10.812673</td>\n",
       "    </tr>\n",
       "    <tr>\n",
       "      <th>2</th>\n",
       "      <td>1</td>\n",
       "      <td>0.001176</td>\n",
       "      <td>1.664563</td>\n",
       "      <td>0.541016</td>\n",
       "      <td>0.900555</td>\n",
       "      <td>1.640619</td>\n",
       "      <td>0.189141</td>\n",
       "      <td>0.374269</td>\n",
       "      <td>9.001338</td>\n",
       "    </tr>\n",
       "    <tr>\n",
       "      <th>3</th>\n",
       "      <td>1</td>\n",
       "      <td>-0.901200</td>\n",
       "      <td>1.605738</td>\n",
       "      <td>0.539399</td>\n",
       "      <td>0.866133</td>\n",
       "      <td>1.436221</td>\n",
       "      <td>0.131944</td>\n",
       "      <td>0.224399</td>\n",
       "      <td>11.995705</td>\n",
       "    </tr>\n",
       "    <tr>\n",
       "      <th>4</th>\n",
       "      <td>1</td>\n",
       "      <td>-0.176353</td>\n",
       "      <td>1.591451</td>\n",
       "      <td>0.539938</td>\n",
       "      <td>0.859285</td>\n",
       "      <td>1.433140</td>\n",
       "      <td>0.183095</td>\n",
       "      <td>0.213446</td>\n",
       "      <td>13.536649</td>\n",
       "    </tr>\n",
       "    <tr>\n",
       "      <th>...</th>\n",
       "      <td>...</td>\n",
       "      <td>...</td>\n",
       "      <td>...</td>\n",
       "      <td>...</td>\n",
       "      <td>...</td>\n",
       "      <td>...</td>\n",
       "      <td>...</td>\n",
       "      <td>...</td>\n",
       "      <td>...</td>\n",
       "    </tr>\n",
       "    <tr>\n",
       "      <th>1691</th>\n",
       "      <td>1</td>\n",
       "      <td>-0.015543</td>\n",
       "      <td>5.225766</td>\n",
       "      <td>0.309119</td>\n",
       "      <td>1.615384</td>\n",
       "      <td>3.554503</td>\n",
       "      <td>2.197871</td>\n",
       "      <td>0.005549</td>\n",
       "      <td>13.504958</td>\n",
       "    </tr>\n",
       "    <tr>\n",
       "      <th>1692</th>\n",
       "      <td>1</td>\n",
       "      <td>0.399089</td>\n",
       "      <td>5.324390</td>\n",
       "      <td>0.274782</td>\n",
       "      <td>1.463044</td>\n",
       "      <td>3.745006</td>\n",
       "      <td>2.324502</td>\n",
       "      <td>0.004359</td>\n",
       "      <td>11.994641</td>\n",
       "    </tr>\n",
       "    <tr>\n",
       "      <th>1693</th>\n",
       "      <td>1</td>\n",
       "      <td>-0.702200</td>\n",
       "      <td>5.575258</td>\n",
       "      <td>0.287503</td>\n",
       "      <td>1.602905</td>\n",
       "      <td>3.434909</td>\n",
       "      <td>2.282626</td>\n",
       "      <td>0.000000</td>\n",
       "      <td>19.312977</td>\n",
       "    </tr>\n",
       "    <tr>\n",
       "      <th>1694</th>\n",
       "      <td>1</td>\n",
       "      <td>0.283926</td>\n",
       "      <td>5.423463</td>\n",
       "      <td>0.256657</td>\n",
       "      <td>1.391968</td>\n",
       "      <td>2.876645</td>\n",
       "      <td>1.454948</td>\n",
       "      <td>0.000000</td>\n",
       "      <td>10.094274</td>\n",
       "    </tr>\n",
       "    <tr>\n",
       "      <th>1695</th>\n",
       "      <td>1</td>\n",
       "      <td>-0.008141</td>\n",
       "      <td>5.239394</td>\n",
       "      <td>0.217016</td>\n",
       "      <td>1.137033</td>\n",
       "      <td>2.871897</td>\n",
       "      <td>1.419066</td>\n",
       "      <td>0.000000</td>\n",
       "      <td>9.155368</td>\n",
       "    </tr>\n",
       "  </tbody>\n",
       "</table>\n",
       "<p>1696 rows × 9 columns</p>\n",
       "</div>"
      ],
      "text/plain": [
       "      Constant  Stock Change  Inventory Turnover  Operating Profit  \\\n",
       "0            1      0.870332            1.795946          0.115846   \n",
       "1            1     -0.047347            1.395501          0.436967   \n",
       "2            1      0.001176            1.664563          0.541016   \n",
       "3            1     -0.901200            1.605738          0.539399   \n",
       "4            1     -0.176353            1.591451          0.539938   \n",
       "...        ...           ...                 ...               ...   \n",
       "1691         1     -0.015543            5.225766          0.309119   \n",
       "1692         1      0.399089            5.324390          0.274782   \n",
       "1693         1     -0.702200            5.575258          0.287503   \n",
       "1694         1      0.283926            5.423463          0.256657   \n",
       "1695         1     -0.008141            5.239394          0.217016   \n",
       "\n",
       "      Interaction Effect  Current Ratio  Quick Ratio  Debt Asset Ratio  \\\n",
       "0               0.208053       1.672527     0.255171          0.473317   \n",
       "1               0.609788       1.637261     0.221763          0.489967   \n",
       "2               0.900555       1.640619     0.189141          0.374269   \n",
       "3               0.866133       1.436221     0.131944          0.224399   \n",
       "4               0.859285       1.433140     0.183095          0.213446   \n",
       "...                  ...            ...          ...               ...   \n",
       "1691            1.615384       3.554503     2.197871          0.005549   \n",
       "1692            1.463044       3.745006     2.324502          0.004359   \n",
       "1693            1.602905       3.434909     2.282626          0.000000   \n",
       "1694            1.391968       2.876645     1.454948          0.000000   \n",
       "1695            1.137033       2.871897     1.419066          0.000000   \n",
       "\n",
       "      Endogenous Param  \n",
       "0            10.724599  \n",
       "1            10.812673  \n",
       "2             9.001338  \n",
       "3            11.995705  \n",
       "4            13.536649  \n",
       "...                ...  \n",
       "1691         13.504958  \n",
       "1692         11.994641  \n",
       "1693         19.312977  \n",
       "1694         10.094274  \n",
       "1695          9.155368  \n",
       "\n",
       "[1696 rows x 9 columns]"
      ]
     },
     "execution_count": 125,
     "metadata": {},
     "output_type": "execute_result"
    }
   ],
   "source": [
    "data"
   ]
  },
  {
   "cell_type": "markdown",
   "metadata": {},
   "source": [
    "PART 1"
   ]
  },
  {
   "cell_type": "code",
   "execution_count": 126,
   "metadata": {},
   "outputs": [
    {
     "name": "stdout",
     "output_type": "stream",
     "text": [
      "Optimization terminated successfully.\n",
      "         Current function value: 0.000006\n",
      "         Iterations: 5\n",
      "         Function evaluations: 10\n",
      "         Gradient evaluations: 10\n",
      "Optimization terminated successfully.\n",
      "         Current function value: 0.000383\n",
      "         Iterations: 6\n",
      "         Function evaluations: 11\n",
      "         Gradient evaluations: 11\n",
      "Optimization terminated successfully.\n",
      "         Current function value: 0.000381\n",
      "         Iterations: 6\n",
      "         Function evaluations: 10\n",
      "         Gradient evaluations: 10\n",
      "Optimization terminated successfully.\n",
      "         Current function value: 0.000381\n",
      "         Iterations: 2\n",
      "         Function evaluations: 5\n",
      "         Gradient evaluations: 5\n",
      "                          gmm_with_vector_bias Results                          \n",
      "================================================================================\n",
      "Dep. Variable:                        y   Hansen J:                       0.6466\n",
      "Model:             gmm_with_vector_bias   Prob (Hansen J):                 0.421\n",
      "Method:                             GMM                                         \n",
      "Date:                  Sat, 09 Nov 2024                                         \n",
      "Time:                          17:38:01                                         \n",
      "No. Observations:                  1696                                         \n",
      "==============================================================================\n",
      "                 coef    std err          z      P>|z|      [0.025      0.975]\n",
      "------------------------------------------------------------------------------\n",
      "p 0           -0.0079   6.49e+05  -1.22e-08      1.000   -1.27e+06    1.27e+06\n",
      "p 1            0.0006      0.000      1.471      0.141      -0.000       0.001\n",
      "p 2           -0.1062      0.032     -3.326      0.001      -0.169      -0.044\n",
      "p 3            0.0013      0.000      3.231      0.001       0.000       0.002\n",
      "p 4           -0.0079   6.49e+05  -1.22e-08      1.000   -1.27e+06    1.27e+06\n",
      "==============================================================================\n"
     ]
    }
   ],
   "source": [
    "y_vals = np.array(data[\"Stock Change\"])\n",
    "x_vals = np.array(data[[\"Inventory Turnover\", \"Operating Profit\", \"Interaction Effect\"]])\n",
    "iv_vals = np.array(data[[\"Current Ratio\", \"Quick Ratio\", \"Debt Asset Ratio\"]])\n",
    "\n",
    "class gmm_with_vector_bias(GMM):\n",
    "    def momcond(self, params):\n",
    "        # Unpack parameters\n",
    "        p0, p1, p2, p3, p4 = params  # Include p4 as the additional parameter\n",
    "        endog = self.endog\n",
    "        exog = self.exog\n",
    "        inst = self.instrument\n",
    "        \n",
    "        # Define the moment conditions with p4 bias term applied to a 1*3 vector [1, 1, 1]\n",
    "        bias_vector = np.array([1, 1, 1])\n",
    "        residuals = endog - (p0 + p1 * exog[:, 0] + p2 * exog[:, 1] + p3 * exog[:, 2])\n",
    "        \n",
    "        error0 = (residuals - p4 * bias_vector[0]) * exog[:, 0]\n",
    "        error1 = (residuals - p4 * bias_vector[1]) * exog[:, 1]\n",
    "        error2 = (residuals - p4 * bias_vector[2]) * exog[:, 2]\n",
    "        error3 = (residuals - p4 * bias_vector[0]) * inst[:, 0]\n",
    "        error4 = (residuals - p4 * bias_vector[1]) * inst[:, 1]\n",
    "        error5 = (residuals - p4 * bias_vector[2]) * inst[:, 2]\n",
    "        \n",
    "        g = np.column_stack((error0, error1, error2, error3, error4, error5))\n",
    "        return g\n",
    "\n",
    "beta_with_p4 = np.array([0.1, 0.1, 0.1, 0.1, 0.1]) \n",
    "\n",
    "# Fit the modified GMM model\n",
    "res = gmm_with_vector_bias(endog=y_vals, exog=x_vals, instrument=iv_vals, k_moms=6, k_params=5).fit(beta_with_p4)\n",
    "print(res.summary())"
   ]
  },
  {
   "cell_type": "markdown",
   "metadata": {},
   "source": [
    "\n",
    "\n",
    "Since 𝛿 has a high p-value (1.000), we would conclude that there is no statistically significant bias as claimed by the industry expert. This outcome suggests that the hypothesis of bias in the moment conditions may not be supported by the data."
   ]
  },
  {
   "cell_type": "markdown",
   "metadata": {},
   "source": [
    "PART 2"
   ]
  },
  {
   "cell_type": "code",
   "execution_count": 127,
   "metadata": {},
   "outputs": [],
   "source": [
    "from sklearn.preprocessing import OneHotEncoder, MinMaxScaler\n",
    "from sklearn.pipeline import Pipeline\n",
    "from sklearn.preprocessing import LabelEncoder\n",
    "from sklearn.compose import ColumnTransformer\n",
    "from sklearn.linear_model import LogisticRegression\n",
    "from sklearn.model_selection import train_test_split, cross_val_score\n",
    "from sklearn.metrics import confusion_matrix, ConfusionMatrixDisplay, precision_recall_curve\n",
    "from sklearn.metrics import f1_score, accuracy_score, precision_score, recall_score, PrecisionRecallDisplay, RocCurveDisplay\n",
    "from sklearn.metrics import classification_report,f1_score, PrecisionRecallDisplay, precision_score, recall_score, roc_auc_score, RocCurveDisplay, roc_curve, confusion_matrix"
   ]
  },
  {
   "cell_type": "code",
   "execution_count": 128,
   "metadata": {},
   "outputs": [],
   "source": [
    "import matplotlib.pyplot as plt\n",
    "import seaborn as sns"
   ]
  },
  {
   "cell_type": "code",
   "execution_count": 129,
   "metadata": {},
   "outputs": [],
   "source": [
    "df = pd.read_csv('C:/Users/User/Desktop/midterm_parttwo.csv')"
   ]
  },
  {
   "cell_type": "code",
   "execution_count": 130,
   "metadata": {},
   "outputs": [
    {
     "data": {
      "text/html": [
       "<div>\n",
       "<style scoped>\n",
       "    .dataframe tbody tr th:only-of-type {\n",
       "        vertical-align: middle;\n",
       "    }\n",
       "\n",
       "    .dataframe tbody tr th {\n",
       "        vertical-align: top;\n",
       "    }\n",
       "\n",
       "    .dataframe thead th {\n",
       "        text-align: right;\n",
       "    }\n",
       "</style>\n",
       "<table border=\"1\" class=\"dataframe\">\n",
       "  <thead>\n",
       "    <tr style=\"text-align: right;\">\n",
       "      <th></th>\n",
       "      <th>Years of Education after High School</th>\n",
       "      <th>Requested Credit Amount</th>\n",
       "      <th>Number of Dependents</th>\n",
       "      <th>Monthly Income</th>\n",
       "      <th>Monthly Expense</th>\n",
       "      <th>Marital Status</th>\n",
       "      <th>Credit Rating</th>\n",
       "    </tr>\n",
       "  </thead>\n",
       "  <tbody>\n",
       "    <tr>\n",
       "      <th>0</th>\n",
       "      <td>1</td>\n",
       "      <td>Low</td>\n",
       "      <td>No dependent</td>\n",
       "      <td>Very low</td>\n",
       "      <td>Very low</td>\n",
       "      <td>Married</td>\n",
       "      <td>Positive</td>\n",
       "    </tr>\n",
       "    <tr>\n",
       "      <th>1</th>\n",
       "      <td>2</td>\n",
       "      <td>Low</td>\n",
       "      <td>No dependent</td>\n",
       "      <td>Very low</td>\n",
       "      <td>Very low</td>\n",
       "      <td>Single</td>\n",
       "      <td>Positive</td>\n",
       "    </tr>\n",
       "    <tr>\n",
       "      <th>2</th>\n",
       "      <td>1</td>\n",
       "      <td>Low</td>\n",
       "      <td>No dependent</td>\n",
       "      <td>Very low</td>\n",
       "      <td>Very low</td>\n",
       "      <td>Single</td>\n",
       "      <td>Positive</td>\n",
       "    </tr>\n",
       "    <tr>\n",
       "      <th>3</th>\n",
       "      <td>3</td>\n",
       "      <td>Low</td>\n",
       "      <td>No dependent</td>\n",
       "      <td>Very low</td>\n",
       "      <td>Very low</td>\n",
       "      <td>Married</td>\n",
       "      <td>Positive</td>\n",
       "    </tr>\n",
       "    <tr>\n",
       "      <th>4</th>\n",
       "      <td>3</td>\n",
       "      <td>Low</td>\n",
       "      <td>No dependent</td>\n",
       "      <td>Very low</td>\n",
       "      <td>Very low</td>\n",
       "      <td>Single</td>\n",
       "      <td>Negative</td>\n",
       "    </tr>\n",
       "  </tbody>\n",
       "</table>\n",
       "</div>"
      ],
      "text/plain": [
       "   Years of Education after High School Requested Credit Amount  \\\n",
       "0                                     1                     Low   \n",
       "1                                     2                     Low   \n",
       "2                                     1                     Low   \n",
       "3                                     3                     Low   \n",
       "4                                     3                     Low   \n",
       "\n",
       "  Number of Dependents Monthly Income Monthly Expense Marital Status  \\\n",
       "0         No dependent       Very low        Very low        Married   \n",
       "1         No dependent       Very low        Very low         Single   \n",
       "2         No dependent       Very low        Very low         Single   \n",
       "3         No dependent       Very low        Very low        Married   \n",
       "4         No dependent       Very low        Very low         Single   \n",
       "\n",
       "  Credit Rating  \n",
       "0      Positive  \n",
       "1      Positive  \n",
       "2      Positive  \n",
       "3      Positive  \n",
       "4      Negative  "
      ]
     },
     "execution_count": 130,
     "metadata": {},
     "output_type": "execute_result"
    }
   ],
   "source": [
    "df.head()"
   ]
  },
  {
   "cell_type": "code",
   "execution_count": 131,
   "metadata": {},
   "outputs": [],
   "source": [
    "categorical_columns = ['Requested Credit Amount','Number of Dependents', 'Monthly Income', 'Monthly Expense','Marital Status']\n",
    "\n",
    "label_encoders = {}\n",
    "for column in categorical_columns:\n",
    "    le = LabelEncoder()\n",
    "    df[column] = le.fit_transform(df[column])\n",
    "    label_encoders[column] = le"
   ]
  },
  {
   "cell_type": "code",
   "execution_count": 132,
   "metadata": {},
   "outputs": [],
   "source": [
    "df['Credit Rating'] = df['Credit Rating'].replace({\"Positive\": 1 , \"Negative\": 0})"
   ]
  },
  {
   "cell_type": "code",
   "execution_count": 133,
   "metadata": {},
   "outputs": [
    {
     "data": {
      "text/html": [
       "<div>\n",
       "<style scoped>\n",
       "    .dataframe tbody tr th:only-of-type {\n",
       "        vertical-align: middle;\n",
       "    }\n",
       "\n",
       "    .dataframe tbody tr th {\n",
       "        vertical-align: top;\n",
       "    }\n",
       "\n",
       "    .dataframe thead th {\n",
       "        text-align: right;\n",
       "    }\n",
       "</style>\n",
       "<table border=\"1\" class=\"dataframe\">\n",
       "  <thead>\n",
       "    <tr style=\"text-align: right;\">\n",
       "      <th></th>\n",
       "      <th>Years of Education after High School</th>\n",
       "      <th>Requested Credit Amount</th>\n",
       "      <th>Number of Dependents</th>\n",
       "      <th>Monthly Income</th>\n",
       "      <th>Monthly Expense</th>\n",
       "      <th>Marital Status</th>\n",
       "      <th>Credit Rating</th>\n",
       "    </tr>\n",
       "  </thead>\n",
       "  <tbody>\n",
       "    <tr>\n",
       "      <th>count</th>\n",
       "      <td>8081.000000</td>\n",
       "      <td>8081.000000</td>\n",
       "      <td>8081.000000</td>\n",
       "      <td>8081.000000</td>\n",
       "      <td>8081.000000</td>\n",
       "      <td>8081.000000</td>\n",
       "      <td>8081.000000</td>\n",
       "    </tr>\n",
       "    <tr>\n",
       "      <th>mean</th>\n",
       "      <td>2.608588</td>\n",
       "      <td>1.308749</td>\n",
       "      <td>0.998886</td>\n",
       "      <td>2.332756</td>\n",
       "      <td>3.342408</td>\n",
       "      <td>0.527781</td>\n",
       "      <td>0.858186</td>\n",
       "    </tr>\n",
       "    <tr>\n",
       "      <th>std</th>\n",
       "      <td>1.571835</td>\n",
       "      <td>0.480907</td>\n",
       "      <td>0.945481</td>\n",
       "      <td>1.441955</td>\n",
       "      <td>1.233483</td>\n",
       "      <td>0.871298</td>\n",
       "      <td>0.348881</td>\n",
       "    </tr>\n",
       "    <tr>\n",
       "      <th>min</th>\n",
       "      <td>0.000000</td>\n",
       "      <td>0.000000</td>\n",
       "      <td>0.000000</td>\n",
       "      <td>0.000000</td>\n",
       "      <td>0.000000</td>\n",
       "      <td>0.000000</td>\n",
       "      <td>0.000000</td>\n",
       "    </tr>\n",
       "    <tr>\n",
       "      <th>25%</th>\n",
       "      <td>1.000000</td>\n",
       "      <td>1.000000</td>\n",
       "      <td>0.000000</td>\n",
       "      <td>1.000000</td>\n",
       "      <td>4.000000</td>\n",
       "      <td>0.000000</td>\n",
       "      <td>1.000000</td>\n",
       "    </tr>\n",
       "    <tr>\n",
       "      <th>50%</th>\n",
       "      <td>3.000000</td>\n",
       "      <td>1.000000</td>\n",
       "      <td>1.000000</td>\n",
       "      <td>2.000000</td>\n",
       "      <td>4.000000</td>\n",
       "      <td>0.000000</td>\n",
       "      <td>1.000000</td>\n",
       "    </tr>\n",
       "    <tr>\n",
       "      <th>75%</th>\n",
       "      <td>3.000000</td>\n",
       "      <td>2.000000</td>\n",
       "      <td>2.000000</td>\n",
       "      <td>4.000000</td>\n",
       "      <td>4.000000</td>\n",
       "      <td>2.000000</td>\n",
       "      <td>1.000000</td>\n",
       "    </tr>\n",
       "    <tr>\n",
       "      <th>max</th>\n",
       "      <td>7.000000</td>\n",
       "      <td>2.000000</td>\n",
       "      <td>2.000000</td>\n",
       "      <td>4.000000</td>\n",
       "      <td>4.000000</td>\n",
       "      <td>2.000000</td>\n",
       "      <td>1.000000</td>\n",
       "    </tr>\n",
       "  </tbody>\n",
       "</table>\n",
       "</div>"
      ],
      "text/plain": [
       "       Years of Education after High School  Requested Credit Amount  \\\n",
       "count                           8081.000000              8081.000000   \n",
       "mean                               2.608588                 1.308749   \n",
       "std                                1.571835                 0.480907   \n",
       "min                                0.000000                 0.000000   \n",
       "25%                                1.000000                 1.000000   \n",
       "50%                                3.000000                 1.000000   \n",
       "75%                                3.000000                 2.000000   \n",
       "max                                7.000000                 2.000000   \n",
       "\n",
       "       Number of Dependents  Monthly Income  Monthly Expense  Marital Status  \\\n",
       "count           8081.000000     8081.000000      8081.000000     8081.000000   \n",
       "mean               0.998886        2.332756         3.342408        0.527781   \n",
       "std                0.945481        1.441955         1.233483        0.871298   \n",
       "min                0.000000        0.000000         0.000000        0.000000   \n",
       "25%                0.000000        1.000000         4.000000        0.000000   \n",
       "50%                1.000000        2.000000         4.000000        0.000000   \n",
       "75%                2.000000        4.000000         4.000000        2.000000   \n",
       "max                2.000000        4.000000         4.000000        2.000000   \n",
       "\n",
       "       Credit Rating  \n",
       "count    8081.000000  \n",
       "mean        0.858186  \n",
       "std         0.348881  \n",
       "min         0.000000  \n",
       "25%         1.000000  \n",
       "50%         1.000000  \n",
       "75%         1.000000  \n",
       "max         1.000000  "
      ]
     },
     "execution_count": 133,
     "metadata": {},
     "output_type": "execute_result"
    }
   ],
   "source": [
    "df.describe()"
   ]
  },
  {
   "cell_type": "code",
   "execution_count": 134,
   "metadata": {},
   "outputs": [
    {
     "data": {
      "text/plain": [
       "Index(['Years of Education after High School', 'Requested Credit Amount',\n",
       "       'Number of Dependents', 'Monthly Income', 'Monthly Expense',\n",
       "       'Marital Status', 'Credit Rating'],\n",
       "      dtype='object')"
      ]
     },
     "execution_count": 134,
     "metadata": {},
     "output_type": "execute_result"
    }
   ],
   "source": [
    "df.columns"
   ]
  },
  {
   "cell_type": "code",
   "execution_count": 135,
   "metadata": {},
   "outputs": [],
   "source": [
    "scaler = MinMaxScaler()\n",
    "\n",
    "columns_to_scale = df.columns.difference(['Credit Rating'])\n",
    "df[columns_to_scale] = scaler.fit_transform(df[columns_to_scale])"
   ]
  },
  {
   "cell_type": "code",
   "execution_count": 136,
   "metadata": {},
   "outputs": [
    {
     "data": {
      "image/png": "[encoded data removed]",
      "text/plain": [
       "<Figure size 1000x1000 with 2 Axes>"
      ]
     },
     "metadata": {},
     "output_type": "display_data"
    }
   ],
   "source": [
    "correlation = df.corr(method='pearson')\n",
    "\n",
    "# uses the variable ax for single a Axes\n",
    "fig, ax = plt.subplots()\n",
    "\n",
    "# sets the figure size in inches\n",
    "ax.figure.set_size_inches(10, 10)\n",
    "sns.heatmap(correlation, annot=True);\n",
    "\n",
    "# displays the plot\n",
    "plt.show()"
   ]
  },
  {
   "cell_type": "code",
   "execution_count": 137,
   "metadata": {},
   "outputs": [
    {
     "data": {
      "text/plain": [
       "Credit Rating\n",
       "1    0.858186\n",
       "0    0.141814\n",
       "Name: count, dtype: float64"
      ]
     },
     "execution_count": 137,
     "metadata": {},
     "output_type": "execute_result"
    }
   ],
   "source": [
    "\n",
    "df['Credit Rating'].value_counts()/len(df)"
   ]
  },
  {
   "cell_type": "code",
   "execution_count": 138,
   "metadata": {},
   "outputs": [],
   "source": [
    "X = df.drop(columns=['Credit Rating'])\n",
    "y = df['Credit Rating']\n",
    "\n",
    "X_train, X_test, y_train, y_test = train_test_split(X,y, test_size=0.5, random_state=42)"
   ]
  },
  {
   "cell_type": "code",
   "execution_count": 139,
   "metadata": {},
   "outputs": [],
   "source": [
    "from imblearn.over_sampling import SMOTE"
   ]
  },
  {
   "cell_type": "code",
   "execution_count": 140,
   "metadata": {},
   "outputs": [],
   "source": [
    "smote = SMOTE()\n",
    "X_res, y_res = smote.fit_resample(X_train, y_train)"
   ]
  },
  {
   "cell_type": "code",
   "execution_count": 141,
   "metadata": {},
   "outputs": [],
   "source": [
    "logreg = LogisticRegression()"
   ]
  },
  {
   "cell_type": "code",
   "execution_count": 142,
   "metadata": {},
   "outputs": [],
   "source": [
    "lr_model = logreg.fit(X_train,y_train)\n",
    "\n",
    "pred_log = lr_model.predict(X_test)"
   ]
  },
  {
   "cell_type": "code",
   "execution_count": 143,
   "metadata": {},
   "outputs": [
    {
     "name": "stdout",
     "output_type": "stream",
     "text": [
      "Logistic Regression F1 Score: 0.9231179213857429\n",
      "Logistic Regression Precision Score: 0.8572135609997525\n",
      "Logistic Regression Recall Score: 1.0\n"
     ]
    }
   ],
   "source": [
    "print(f'Logistic Regression F1 Score: {f1_score(y_test, pred_log)}')\n",
    "print(f'Logistic Regression Precision Score: {precision_score(y_test, pred_log)}')\n",
    "print(f'Logistic Regression Recall Score: {recall_score(y_test, pred_log)}')"
   ]
  },
  {
   "cell_type": "code",
   "execution_count": 144,
   "metadata": {},
   "outputs": [
    {
     "data": {
      "image/png": "[encoded data removed]",
      "text/plain": [
       "<Figure size 600x400 with 1 Axes>"
      ]
     },
     "metadata": {},
     "output_type": "display_data"
    }
   ],
   "source": [
    "#Confusion Matrix\n",
    "cm_log = confusion_matrix(y_test, pred_log)\n",
    "\n",
    "# Plot confusion matrix\n",
    "plt.figure(figsize=(6, 4))\n",
    "sns.heatmap(cm_log, annot=True, fmt='d', cmap='Blues', cbar=False)\n",
    "plt.xlabel(\"Predicted Class\")\n",
    "plt.ylabel(\"True Class\")\n",
    "plt.title(\"Confusion Matrix for Linear Regression (50% testing size)\")\n",
    "plt.show()"
   ]
  },
  {
   "cell_type": "markdown",
   "metadata": {},
   "source": [
    "part 2 - b"
   ]
  },
  {
   "cell_type": "code",
   "execution_count": 145,
   "metadata": {},
   "outputs": [
    {
     "name": "stdout",
     "output_type": "stream",
     "text": [
      "Updated Precision: 0.868135838150289\n",
      "Updated Recall: 0.6937066974595842\n",
      "Updated F1 Score: 0.771181001283697\n"
     ]
    }
   ],
   "source": [
    "import numpy as np\n",
    "from sklearn.metrics import confusion_matrix, precision_score, recall_score, f1_score\n",
    "\n",
    "# Step 1: Get prediction probabilities\n",
    "probs = lr_model.predict_proba(X_test)[:, 1] \n",
    "\n",
    "predictions = [1 if prob > 0.85 else 0 for prob in probs]\n",
    "\n",
    "# Step 4: Calculate the new confusion matrix and metrics\n",
    "precision = precision_score(y_test, predictions)\n",
    "recall = recall_score(y_test, predictions)\n",
    "f1 = f1_score(y_test, predictions)\n",
    "\n",
    "print(\"Updated Precision:\", precision)\n",
    "print(\"Updated Recall:\", recall)\n",
    "print(\"Updated F1 Score:\", f1)\n"
   ]
  },
  {
   "cell_type": "code",
   "execution_count": 147,
   "metadata": {},
   "outputs": [
    {
     "data": {
      "image/png": "[encoded data removed]",
      "text/plain": [
       "<Figure size 600x400 with 1 Axes>"
      ]
     },
     "metadata": {},
     "output_type": "display_data"
    }
   ],
   "source": [
    "cm_log1 = confusion_matrix(y_test, predictions)\n",
    "\n",
    "# Plot confusion matrix\n",
    "plt.figure(figsize=(6, 4))\n",
    "sns.heatmap(cm_log1, annot=True, fmt='d', cmap='Blues', cbar=False)\n",
    "plt.xlabel(\"Predicted Class\")\n",
    "plt.ylabel(\"True Class\")\n",
    "plt.title(\"Confusion Matrix for Linear Regression (15% threshold)\")\n",
    "plt.show()"
   ]
  },
  {
   "cell_type": "code",
   "execution_count": null,
   "metadata": {},
   "outputs": [],
   "source": []
  }
 ],
 "metadata": {
  "kernelspec": {
   "display_name": "base",
   "language": "python",
   "name": "python3"
  },
  "language_info": {
   "codemirror_mode": {
    "name": "ipython",
    "version": 3
   },
   "file_extension": ".py",
   "mimetype": "text/x-python",
   "name": "python",
   "nbconvert_exporter": "python",
   "pygments_lexer": "ipython3",
   "version": "3.11.5"
  }
 },
 "nbformat": 4,
 "nbformat_minor": 2
}
