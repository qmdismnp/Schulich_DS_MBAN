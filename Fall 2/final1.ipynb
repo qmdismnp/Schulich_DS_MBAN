{
 "cells": [
  {
   "cell_type": "code",
   "execution_count": 6,
   "metadata": {},
   "outputs": [],
   "source": [
    "import pandas as pd\n",
    "import numpy as np\n",
    "import tensorflow as tf\n",
    "from sklearn.model_selection import train_test_split\n",
    "from sklearn.preprocessing import LabelEncoder\n",
    "from tensorflow.keras.models import Sequential\n",
    "from tensorflow.keras.layers import Dense, Embedding, LSTM, Bidirectional, Attention, Input\n",
    "from tensorflow.keras.optimizers import Adam\n",
    "from tensorflow.keras.preprocessing.text import Tokenizer\n",
    "from tensorflow.keras.preprocessing.sequence import pad_sequences\n",
    "\n",
    "# Load the dataset\n",
    "data = pd.read_csv('https://archive.ics.uci.edu/static/public/911/data.csv')\n",
    "\n",
    "\n",
    "# Data preprocessing\n",
    "# Convert 'best_score' to binary labels: positive (>=3) and negative (<3)\n",
    "data['label'] = data['best_score'].apply(lambda x: 'positive' if x >= 482 else 'negative')"
   ]
  },
  {
   "cell_type": "markdown",
   "metadata": {},
   "source": [
    "binary output based on the best_score"
   ]
  },
  {
   "cell_type": "code",
   "execution_count": 7,
   "metadata": {},
   "outputs": [],
   "source": [
    "# Preprocessing steps for the 'review_text' column\n",
    "data['review_text'] = data['text'].str.lower()\n",
    "data['review_text'] = data['review_text'].str.replace(r'[^\\w\\s]', '', regex=True)\n",
    "data['review_text'] = data['review_text'].str.replace(r'\\d+', '', regex=True)\n",
    "data = data.dropna(subset=['review_text'])"
   ]
  },
  {
   "cell_type": "code",
   "execution_count": 8,
   "metadata": {},
   "outputs": [],
   "source": [
    "# Encode labels\n",
    "label_encoder = LabelEncoder()\n",
    "data['label_encoded'] = label_encoder.fit_transform(data['label'])"
   ]
  },
  {
   "cell_type": "code",
   "execution_count": 9,
   "metadata": {},
   "outputs": [],
   "source": [
    "# Tokenization and padding\n",
    "tokenizer = Tokenizer(num_words=10000, oov_token='<OOV>')\n",
    "tokenizer.fit_on_texts(data['review_text'])\n",
    "sequences = tokenizer.texts_to_sequences(data['review_text'])\n",
    "padded_sequences = pad_sequences(sequences, maxlen=100, padding='post')\n",
    "\n",
    "# Split data\n",
    "X_train, X_test, y_train, y_test = train_test_split(\n",
    "    padded_sequences, data['label_encoded'], test_size=0.2, random_state=42\n",
    ")\n",
    "\n",
    "# Convert labels to one-hot encoding\n",
    "y_train = tf.keras.utils.to_categorical(y_train, num_classes=2)\n",
    "y_test = tf.keras.utils.to_categorical(y_test, num_classes=2)"
   ]
  },
  {
   "cell_type": "code",
   "execution_count": 10,
   "metadata": {},
   "outputs": [
    {
     "name": "stdout",
     "output_type": "stream",
     "text": [
      "Epoch 1/5\n"
     ]
    },
    {
     "name": "stderr",
     "output_type": "stream",
     "text": [
      "/Users/huiyisang/Library/Python/3.9/lib/python/site-packages/keras/src/layers/core/embedding.py:90: UserWarning: Argument `input_length` is deprecated. Just remove it.\n",
      "  warnings.warn(\n"
     ]
    },
    {
     "name": "stdout",
     "output_type": "stream",
     "text": [
      "\u001b[1m455/455\u001b[0m \u001b[32m━━━━━━━━━━━━━━━━━━━━\u001b[0m\u001b[37m\u001b[0m \u001b[1m15s\u001b[0m 30ms/step - accuracy: 0.9497 - loss: 0.2212 - val_accuracy: 0.9502 - val_loss: 0.1985\n",
      "Epoch 2/5\n",
      "\u001b[1m455/455\u001b[0m \u001b[32m━━━━━━━━━━━━━━━━━━━━\u001b[0m\u001b[37m\u001b[0m \u001b[1m15s\u001b[0m 34ms/step - accuracy: 0.9503 - loss: 0.2031 - val_accuracy: 0.9502 - val_loss: 0.2053\n",
      "Epoch 3/5\n",
      "\u001b[1m455/455\u001b[0m \u001b[32m━━━━━━━━━━━━━━━━━━━━\u001b[0m\u001b[37m\u001b[0m \u001b[1m15s\u001b[0m 34ms/step - accuracy: 0.9506 - loss: 0.2036 - val_accuracy: 0.9502 - val_loss: 0.1973\n",
      "Epoch 4/5\n",
      "\u001b[1m455/455\u001b[0m \u001b[32m━━━━━━━━━━━━━━━━━━━━\u001b[0m\u001b[37m\u001b[0m \u001b[1m15s\u001b[0m 34ms/step - accuracy: 0.9482 - loss: 0.2069 - val_accuracy: 0.9502 - val_loss: 0.1977\n",
      "Epoch 5/5\n",
      "\u001b[1m455/455\u001b[0m \u001b[32m━━━━━━━━━━━━━━━━━━━━\u001b[0m\u001b[37m\u001b[0m \u001b[1m15s\u001b[0m 34ms/step - accuracy: 0.9515 - loss: 0.1965 - val_accuracy: 0.9502 - val_loss: 0.1986\n"
     ]
    },
    {
     "data": {
      "text/plain": [
       "<keras.src.callbacks.history.History at 0x106cdd700>"
      ]
     },
     "execution_count": 10,
     "metadata": {},
     "output_type": "execute_result"
    }
   ],
   "source": [
    "from tensorflow.keras.optimizers import RMSprop\n",
    "\n",
    "# Build BiRNN model using Sequential API\n",
    "birnn_model = Sequential([\n",
    "    Embedding(input_dim=10000, output_dim=100, input_length=100, trainable=False),\n",
    "    Bidirectional(LSTM(64, return_sequences=False, activation='tanh')),\n",
    "    tf.keras.layers.Dropout(0.5),\n",
    "    Dense(2, activation='softmax')\n",
    "])\n",
    "\n",
    "# Define optimizer\n",
    "birnn_optimizer = RMSprop(learning_rate=0.01)\n",
    "\n",
    "# Compile BiRNN model\n",
    "birnn_model.compile(\n",
    "    optimizer=birnn_optimizer,\n",
    "    loss='categorical_crossentropy',\n",
    "    metrics=['accuracy']\n",
    ")\n",
    "\n",
    "# Train BiRNN model\n",
    "birnn_model.fit(X_train, y_train, epochs=5, batch_size=32, validation_data=(X_test, y_test))\n"
   ]
  },
  {
   "cell_type": "code",
   "execution_count": 11,
   "metadata": {},
   "outputs": [
    {
     "ename": "NameError",
     "evalue": "name 'AttentionLayer' is not defined",
     "output_type": "error",
     "traceback": [
      "\u001b[0;31m---------------------------------------------------------------------------\u001b[0m",
      "\u001b[0;31mNameError\u001b[0m                                 Traceback (most recent call last)",
      "Cell \u001b[0;32mIn[11], line 12\u001b[0m\n\u001b[1;32m      9\u001b[0m     \u001b[38;5;28;01mreturn\u001b[39;00m model\n\u001b[1;32m     11\u001b[0m \u001b[38;5;66;03m# Build, compile, and train the corrected AttBiRNN model\u001b[39;00m\n\u001b[0;32m---> 12\u001b[0m attbirnn_model_fixed \u001b[38;5;241m=\u001b[39m \u001b[43mbuild_attbirnn_model_fixed\u001b[49m\u001b[43m(\u001b[49m\u001b[43m)\u001b[49m\n\u001b[1;32m     13\u001b[0m attbirnn_optimizer \u001b[38;5;241m=\u001b[39m RMSprop(learning_rate\u001b[38;5;241m=\u001b[39m\u001b[38;5;241m0.001\u001b[39m)\n\u001b[1;32m     15\u001b[0m attbirnn_model_fixed\u001b[38;5;241m.\u001b[39mcompile(\n\u001b[1;32m     16\u001b[0m     optimizer\u001b[38;5;241m=\u001b[39mattbirnn_optimizer,\n\u001b[1;32m     17\u001b[0m     loss\u001b[38;5;241m=\u001b[39m\u001b[38;5;124m'\u001b[39m\u001b[38;5;124mcategorical_crossentropy\u001b[39m\u001b[38;5;124m'\u001b[39m,\n\u001b[1;32m     18\u001b[0m     metrics\u001b[38;5;241m=\u001b[39m[\u001b[38;5;124m'\u001b[39m\u001b[38;5;124maccuracy\u001b[39m\u001b[38;5;124m'\u001b[39m]\n\u001b[1;32m     19\u001b[0m )\n",
      "Cell \u001b[0;32mIn[11], line 5\u001b[0m, in \u001b[0;36mbuild_attbirnn_model_fixed\u001b[0;34m()\u001b[0m\n\u001b[1;32m      3\u001b[0m embedding_layer \u001b[38;5;241m=\u001b[39m Embedding(input_dim\u001b[38;5;241m=\u001b[39m\u001b[38;5;241m10000\u001b[39m, output_dim\u001b[38;5;241m=\u001b[39m\u001b[38;5;241m128\u001b[39m, input_length\u001b[38;5;241m=\u001b[39m\u001b[38;5;241m100\u001b[39m, trainable\u001b[38;5;241m=\u001b[39m\u001b[38;5;28;01mFalse\u001b[39;00m)(inputs)\n\u001b[1;32m      4\u001b[0m birnn_layer \u001b[38;5;241m=\u001b[39m Bidirectional(LSTM(\u001b[38;5;241m64\u001b[39m, return_sequences\u001b[38;5;241m=\u001b[39m\u001b[38;5;28;01mTrue\u001b[39;00m, activation\u001b[38;5;241m=\u001b[39m\u001b[38;5;124m'\u001b[39m\u001b[38;5;124mtanh\u001b[39m\u001b[38;5;124m'\u001b[39m))(embedding_layer)\n\u001b[0;32m----> 5\u001b[0m attention_layer \u001b[38;5;241m=\u001b[39m \u001b[43mAttentionLayer\u001b[49m()(birnn_layer)\n\u001b[1;32m      6\u001b[0m dropout_layer \u001b[38;5;241m=\u001b[39m tf\u001b[38;5;241m.\u001b[39mkeras\u001b[38;5;241m.\u001b[39mlayers\u001b[38;5;241m.\u001b[39mDropout(\u001b[38;5;241m0.5\u001b[39m)(attention_layer)\n\u001b[1;32m      7\u001b[0m outputs \u001b[38;5;241m=\u001b[39m Dense(\u001b[38;5;241m2\u001b[39m, activation\u001b[38;5;241m=\u001b[39m\u001b[38;5;124m'\u001b[39m\u001b[38;5;124msoftmax\u001b[39m\u001b[38;5;124m'\u001b[39m)(dropout_layer)\n",
      "\u001b[0;31mNameError\u001b[0m: name 'AttentionLayer' is not defined"
     ]
    }
   ],
   "source": [
    "def build_attbirnn_model_fixed():\n",
    "    inputs = tf.keras.Input(shape=(100,))\n",
    "    embedding_layer = Embedding(input_dim=10000, output_dim=128, input_length=100, trainable=False)(inputs)\n",
    "    birnn_layer = Bidirectional(LSTM(64, return_sequences=True, activation='tanh'))(embedding_layer)\n",
    "    attention_layer = AttentionLayer()(birnn_layer)\n",
    "    dropout_layer = tf.keras.layers.Dropout(0.5)(attention_layer)\n",
    "    outputs = Dense(2, activation='softmax')(dropout_layer)\n",
    "    model = tf.keras.Model(inputs=inputs, outputs=outputs)\n",
    "    return model\n",
    "\n",
    "# Build, compile, and train the corrected AttBiRNN model\n",
    "attbirnn_model_fixed = build_attbirnn_model_fixed()\n",
    "attbirnn_optimizer = RMSprop(learning_rate=0.001)\n",
    "\n",
    "attbirnn_model_fixed.compile(\n",
    "    optimizer=attbirnn_optimizer,\n",
    "    loss='categorical_crossentropy',\n",
    "    metrics=['accuracy']\n",
    ")\n",
    "\n",
    "# Train the AttBiRNN model\n",
    "attbirnn_model_fixed.fit(X_train, y_train, epochs=5, batch_size=32, validation_data=(X_test, y_test))\n"
   ]
  },
  {
   "cell_type": "code",
   "execution_count": 9,
   "metadata": {},
   "outputs": [
    {
     "ename": "ValueError",
     "evalue": "Exception encountered when calling AttentionLayer.call().\n\n\u001b[1mCould not automatically infer the output shape / dtype of 'attention_layer_2' (of type AttentionLayer). Either the `AttentionLayer.call()` method is incorrect, or you need to implement the `AttentionLayer.compute_output_spec() / compute_output_shape()` method. Error encountered:\n\nDimensions must be equal, but are 100 and 128 for '{{node mul}} = Mul[T=DT_FLOAT](Softmax, Placeholder)' with input shapes: [?,100], [?,100,128].\u001b[0m\n\nArguments received by AttentionLayer.call():\n  • args=('<KerasTensor shape=(None, 100, 128), dtype=float32, sparse=False, name=keras_tensor_18>',)\n  • kwargs=<class 'inspect._empty'>",
     "output_type": "error",
     "traceback": [
      "\u001b[0;31m---------------------------------------------------------------------------\u001b[0m",
      "\u001b[0;31mValueError\u001b[0m                                Traceback (most recent call last)",
      "Cell \u001b[0;32mIn[9], line 12\u001b[0m\n\u001b[1;32m      9\u001b[0m     \u001b[38;5;28;01mreturn\u001b[39;00m model\n\u001b[1;32m     11\u001b[0m \u001b[38;5;66;03m# Build and compile the AttBiRNN model\u001b[39;00m\n\u001b[0;32m---> 12\u001b[0m attbirnn_model_fixed \u001b[38;5;241m=\u001b[39m \u001b[43mbuild_attbirnn_model_fixed\u001b[49m\u001b[43m(\u001b[49m\u001b[43m)\u001b[49m\n\u001b[1;32m     13\u001b[0m attbirnn_optimizer \u001b[38;5;241m=\u001b[39m RMSprop(learning_rate\u001b[38;5;241m=\u001b[39m\u001b[38;5;241m0.001\u001b[39m)\n\u001b[1;32m     15\u001b[0m attbirnn_model_fixed\u001b[38;5;241m.\u001b[39mcompile(\n\u001b[1;32m     16\u001b[0m     optimizer\u001b[38;5;241m=\u001b[39mattbirnn_optimizer,\n\u001b[1;32m     17\u001b[0m     loss\u001b[38;5;241m=\u001b[39m\u001b[38;5;124m'\u001b[39m\u001b[38;5;124mcategorical_crossentropy\u001b[39m\u001b[38;5;124m'\u001b[39m,\n\u001b[1;32m     18\u001b[0m     metrics\u001b[38;5;241m=\u001b[39m[\u001b[38;5;124m'\u001b[39m\u001b[38;5;124maccuracy\u001b[39m\u001b[38;5;124m'\u001b[39m]\n\u001b[1;32m     19\u001b[0m )\n",
      "Cell \u001b[0;32mIn[9], line 5\u001b[0m, in \u001b[0;36mbuild_attbirnn_model_fixed\u001b[0;34m()\u001b[0m\n\u001b[1;32m      3\u001b[0m embedding_layer \u001b[38;5;241m=\u001b[39m Embedding(input_dim\u001b[38;5;241m=\u001b[39m\u001b[38;5;241m10000\u001b[39m, output_dim\u001b[38;5;241m=\u001b[39m\u001b[38;5;241m128\u001b[39m, input_length\u001b[38;5;241m=\u001b[39m\u001b[38;5;241m100\u001b[39m, trainable\u001b[38;5;241m=\u001b[39m\u001b[38;5;28;01mFalse\u001b[39;00m)(inputs)\n\u001b[1;32m      4\u001b[0m birnn_layer \u001b[38;5;241m=\u001b[39m Bidirectional(LSTM(\u001b[38;5;241m64\u001b[39m, return_sequences\u001b[38;5;241m=\u001b[39m\u001b[38;5;28;01mTrue\u001b[39;00m, activation\u001b[38;5;241m=\u001b[39m\u001b[38;5;124m'\u001b[39m\u001b[38;5;124mtanh\u001b[39m\u001b[38;5;124m'\u001b[39m))(embedding_layer)\n\u001b[0;32m----> 5\u001b[0m attention_layer \u001b[38;5;241m=\u001b[39m \u001b[43mAttentionLayer\u001b[49m\u001b[43m(\u001b[49m\u001b[43m)\u001b[49m\u001b[43m(\u001b[49m\u001b[43mbirnn_layer\u001b[49m\u001b[43m)\u001b[49m\n\u001b[1;32m      6\u001b[0m dropout_layer \u001b[38;5;241m=\u001b[39m tf\u001b[38;5;241m.\u001b[39mkeras\u001b[38;5;241m.\u001b[39mlayers\u001b[38;5;241m.\u001b[39mDropout(\u001b[38;5;241m0.5\u001b[39m)(attention_layer)\n\u001b[1;32m      7\u001b[0m outputs \u001b[38;5;241m=\u001b[39m Dense(\u001b[38;5;241m2\u001b[39m, activation\u001b[38;5;241m=\u001b[39m\u001b[38;5;124m'\u001b[39m\u001b[38;5;124msoftmax\u001b[39m\u001b[38;5;124m'\u001b[39m)(dropout_layer)\n",
      "File \u001b[0;32m~/Library/Python/3.9/lib/python/site-packages/keras/src/utils/traceback_utils.py:122\u001b[0m, in \u001b[0;36mfilter_traceback.<locals>.error_handler\u001b[0;34m(*args, **kwargs)\u001b[0m\n\u001b[1;32m    119\u001b[0m     filtered_tb \u001b[38;5;241m=\u001b[39m _process_traceback_frames(e\u001b[38;5;241m.\u001b[39m__traceback__)\n\u001b[1;32m    120\u001b[0m     \u001b[38;5;66;03m# To get the full stack trace, call:\u001b[39;00m\n\u001b[1;32m    121\u001b[0m     \u001b[38;5;66;03m# `keras.config.disable_traceback_filtering()`\u001b[39;00m\n\u001b[0;32m--> 122\u001b[0m     \u001b[38;5;28;01mraise\u001b[39;00m e\u001b[38;5;241m.\u001b[39mwith_traceback(filtered_tb) \u001b[38;5;28;01mfrom\u001b[39;00m \u001b[38;5;28;01mNone\u001b[39;00m\n\u001b[1;32m    123\u001b[0m \u001b[38;5;28;01mfinally\u001b[39;00m:\n\u001b[1;32m    124\u001b[0m     \u001b[38;5;28;01mdel\u001b[39;00m filtered_tb\n",
      "Cell \u001b[0;32mIn[8], line 27\u001b[0m, in \u001b[0;36mAttentionLayer.call\u001b[0;34m(self, inputs)\u001b[0m\n\u001b[1;32m     25\u001b[0m attention_weights \u001b[38;5;241m=\u001b[39m tf\u001b[38;5;241m.\u001b[39mnn\u001b[38;5;241m.\u001b[39msoftmax(tf\u001b[38;5;241m.\u001b[39mtensordot(score, \u001b[38;5;28mself\u001b[39m\u001b[38;5;241m.\u001b[39mu, axes\u001b[38;5;241m=\u001b[39m[\u001b[38;5;241m2\u001b[39m, \u001b[38;5;241m0\u001b[39m]), axis\u001b[38;5;241m=\u001b[39m\u001b[38;5;241m1\u001b[39m)\n\u001b[1;32m     26\u001b[0m \u001b[38;5;66;03m# Context vector calculation\u001b[39;00m\n\u001b[0;32m---> 27\u001b[0m context_vector \u001b[38;5;241m=\u001b[39m tf\u001b[38;5;241m.\u001b[39mreduce_sum(\u001b[43mattention_weights\u001b[49m\u001b[43m \u001b[49m\u001b[38;5;241;43m*\u001b[39;49m\u001b[43m \u001b[49m\u001b[43minputs\u001b[49m, axis\u001b[38;5;241m=\u001b[39m\u001b[38;5;241m1\u001b[39m)\n\u001b[1;32m     28\u001b[0m \u001b[38;5;28;01mreturn\u001b[39;00m context_vector\n",
      "\u001b[0;31mValueError\u001b[0m: Exception encountered when calling AttentionLayer.call().\n\n\u001b[1mCould not automatically infer the output shape / dtype of 'attention_layer_2' (of type AttentionLayer). Either the `AttentionLayer.call()` method is incorrect, or you need to implement the `AttentionLayer.compute_output_spec() / compute_output_shape()` method. Error encountered:\n\nDimensions must be equal, but are 100 and 128 for '{{node mul}} = Mul[T=DT_FLOAT](Softmax, Placeholder)' with input shapes: [?,100], [?,100,128].\u001b[0m\n\nArguments received by AttentionLayer.call():\n  • args=('<KerasTensor shape=(None, 100, 128), dtype=float32, sparse=False, name=keras_tensor_18>',)\n  • kwargs=<class 'inspect._empty'>"
     ]
    }
   ],
   "source": [
    "def build_attbirnn_model_fixed():\n",
    "    inputs = tf.keras.Input(shape=(100,))\n",
    "    embedding_layer = Embedding(input_dim=10000, output_dim=128, input_length=100, trainable=False)(inputs)\n",
    "    birnn_layer = Bidirectional(LSTM(64, return_sequences=True, activation='tanh'))(embedding_layer)\n",
    "    attention_layer = AttentionLayer()(birnn_layer)\n",
    "    dropout_layer = tf.keras.layers.Dropout(0.5)(attention_layer)\n",
    "    outputs = Dense(2, activation='softmax')(dropout_layer)\n",
    "    model = tf.keras.Model(inputs=inputs, outputs=outputs)\n",
    "    return model\n",
    "\n",
    "# Build and compile the AttBiRNN model\n",
    "attbirnn_model_fixed = build_attbirnn_model_fixed()\n",
    "attbirnn_optimizer = RMSprop(learning_rate=0.001)\n",
    "\n",
    "attbirnn_model_fixed.compile(\n",
    "    optimizer=attbirnn_optimizer,\n",
    "    loss='categorical_crossentropy',\n",
    "    metrics=['accuracy']\n",
    ")\n",
    "\n",
    "# Train the AttBiRNN model\n",
    "attbirnn_model_fixed.fit(X_train, y_train, epochs=5, batch_size=32, validation_data=(X_test, y_test))\n"
   ]
  },
  {
   "cell_type": "code",
   "execution_count": 12,
   "metadata": {},
   "outputs": [
    {
     "name": "stdout",
     "output_type": "stream",
     "text": [
      "Evaluating BiRNN Model...\n",
      "BiRNN Accuracy: 0.95\n",
      "\u001b[1m114/114\u001b[0m \u001b[32m━━━━━━━━━━━━━━━━━━━━\u001b[0m\u001b[37m\u001b[0m \u001b[1m1s\u001b[0m 7ms/step\n",
      "\n",
      "Classification Report for BiRNN:\n",
      "              precision    recall  f1-score   support\n",
      "\n",
      "    Negative       0.95      1.00      0.97      3455\n",
      "    Positive       0.00      0.00      0.00       181\n",
      "\n",
      "    accuracy                           0.95      3636\n",
      "   macro avg       0.48      0.50      0.49      3636\n",
      "weighted avg       0.90      0.95      0.93      3636\n",
      "\n",
      "Confusion Matrix for BiRNN:\n"
     ]
    },
    {
     "name": "stderr",
     "output_type": "stream",
     "text": [
      "/Users/huiyisang/Library/Python/3.9/lib/python/site-packages/sklearn/metrics/_classification.py:1531: UndefinedMetricWarning: Precision is ill-defined and being set to 0.0 in labels with no predicted samples. Use `zero_division` parameter to control this behavior.\n",
      "  _warn_prf(average, modifier, f\"{metric.capitalize()} is\", len(result))\n",
      "/Users/huiyisang/Library/Python/3.9/lib/python/site-packages/sklearn/metrics/_classification.py:1531: UndefinedMetricWarning: Precision is ill-defined and being set to 0.0 in labels with no predicted samples. Use `zero_division` parameter to control this behavior.\n",
      "  _warn_prf(average, modifier, f\"{metric.capitalize()} is\", len(result))\n",
      "/Users/huiyisang/Library/Python/3.9/lib/python/site-packages/sklearn/metrics/_classification.py:1531: UndefinedMetricWarning: Precision is ill-defined and being set to 0.0 in labels with no predicted samples. Use `zero_division` parameter to control this behavior.\n",
      "  _warn_prf(average, modifier, f\"{metric.capitalize()} is\", len(result))\n"
     ]
    },
    {
     "data": {
      "image/png": "[encoded data removed]",
      "text/plain": [
       "<Figure size 800x600 with 2 Axes>"
      ]
     },
     "metadata": {},
     "output_type": "display_data"
    }
   ],
   "source": [
    "from sklearn.metrics import classification_report, confusion_matrix\n",
    "import seaborn as sns\n",
    "import matplotlib.pyplot as plt\n",
    "\n",
    "# Evaluate BiRNN model\n",
    "print(\"Evaluating BiRNN Model...\")\n",
    "birnn_eval = birnn_model.evaluate(X_test, y_test, verbose=0)\n",
    "print(f\"BiRNN Accuracy: {birnn_eval[1]:.2f}\")\n",
    "\n",
    "# Generate predictions for BiRNN\n",
    "birnn_predictions = birnn_model.predict(X_test)\n",
    "birnn_pred_classes = np.argmax(birnn_predictions, axis=1)\n",
    "y_test_classes = np.argmax(y_test, axis=1)\n",
    "\n",
    "# Classification report for BiRNN\n",
    "print(\"\\nClassification Report for BiRNN:\")\n",
    "print(classification_report(y_test_classes, birnn_pred_classes, target_names=['Negative', 'Positive']))\n",
    "\n",
    "# Confusion matrix for BiRNN\n",
    "print(\"Confusion Matrix for BiRNN:\")\n",
    "birnn_cm = confusion_matrix(y_test_classes, birnn_pred_classes)\n",
    "plt.figure(figsize=(8, 6))\n",
    "sns.heatmap(birnn_cm, annot=True, fmt='d', cmap='Blues', xticklabels=['Negative', 'Positive'], yticklabels=['Negative', 'Positive'])\n",
    "plt.xlabel('Predicted')\n",
    "plt.ylabel('True')\n",
    "plt.title('Confusion Matrix for BiRNN')\n",
    "plt.show()\n"
   ]
  },
  {
   "cell_type": "code",
   "execution_count": 15,
   "metadata": {},
   "outputs": [
    {
     "ename": "ValueError",
     "evalue": "Exception encountered when calling AttentionLayer.call().\n\n\u001b[1mCould not automatically infer the output shape / dtype of 'attention_layer' (of type AttentionLayer). Either the `AttentionLayer.call()` method is incorrect, or you need to implement the `AttentionLayer.compute_output_spec() / compute_output_shape()` method. Error encountered:\n\nDimensions must be equal, but are 100 and 256 for '{{node mul}} = Mul[T=DT_FLOAT](Softmax, Placeholder)' with input shapes: [?,100], [?,100,256].\u001b[0m\n\nArguments received by AttentionLayer.call():\n  • args=('<KerasTensor shape=(None, 100, 256), dtype=float32, sparse=False, name=keras_tensor_16>',)\n  • kwargs=<class 'inspect._empty'>",
     "output_type": "error",
     "traceback": [
      "\u001b[0;31m---------------------------------------------------------------------------\u001b[0m",
      "\u001b[0;31mValueError\u001b[0m                                Traceback (most recent call last)",
      "Cell \u001b[0;32mIn[15], line 32\u001b[0m\n\u001b[1;32m     30\u001b[0m x \u001b[38;5;241m=\u001b[39m Embedding(input_dim\u001b[38;5;241m=\u001b[39m\u001b[38;5;241m10000\u001b[39m, output_dim\u001b[38;5;241m=\u001b[39m\u001b[38;5;241m128\u001b[39m)(inputs)\n\u001b[1;32m     31\u001b[0m x \u001b[38;5;241m=\u001b[39m Bidirectional(LSTM(\u001b[38;5;241m128\u001b[39m, return_sequences\u001b[38;5;241m=\u001b[39m\u001b[38;5;28;01mTrue\u001b[39;00m))(x)\n\u001b[0;32m---> 32\u001b[0m x \u001b[38;5;241m=\u001b[39m \u001b[43mAttentionLayer\u001b[49m\u001b[43m(\u001b[49m\u001b[43m)\u001b[49m\u001b[43m(\u001b[49m\u001b[43mx\u001b[49m\u001b[43m)\u001b[49m\n\u001b[1;32m     33\u001b[0m x \u001b[38;5;241m=\u001b[39m Dropout(\u001b[38;5;241m0.5\u001b[39m)(x)\n\u001b[1;32m     34\u001b[0m outputs \u001b[38;5;241m=\u001b[39m Dense(\u001b[38;5;241m1\u001b[39m, activation\u001b[38;5;241m=\u001b[39m\u001b[38;5;124m'\u001b[39m\u001b[38;5;124msigmoid\u001b[39m\u001b[38;5;124m'\u001b[39m)(x)\n",
      "File \u001b[0;32m~/Library/Python/3.9/lib/python/site-packages/keras/src/utils/traceback_utils.py:122\u001b[0m, in \u001b[0;36mfilter_traceback.<locals>.error_handler\u001b[0;34m(*args, **kwargs)\u001b[0m\n\u001b[1;32m    119\u001b[0m     filtered_tb \u001b[38;5;241m=\u001b[39m _process_traceback_frames(e\u001b[38;5;241m.\u001b[39m__traceback__)\n\u001b[1;32m    120\u001b[0m     \u001b[38;5;66;03m# To get the full stack trace, call:\u001b[39;00m\n\u001b[1;32m    121\u001b[0m     \u001b[38;5;66;03m# `keras.config.disable_traceback_filtering()`\u001b[39;00m\n\u001b[0;32m--> 122\u001b[0m     \u001b[38;5;28;01mraise\u001b[39;00m e\u001b[38;5;241m.\u001b[39mwith_traceback(filtered_tb) \u001b[38;5;28;01mfrom\u001b[39;00m \u001b[38;5;28;01mNone\u001b[39;00m\n\u001b[1;32m    123\u001b[0m \u001b[38;5;28;01mfinally\u001b[39;00m:\n\u001b[1;32m    124\u001b[0m     \u001b[38;5;28;01mdel\u001b[39;00m filtered_tb\n",
      "Cell \u001b[0;32mIn[15], line 24\u001b[0m, in \u001b[0;36mAttentionLayer.call\u001b[0;34m(self, inputs)\u001b[0m\n\u001b[1;32m     22\u001b[0m score \u001b[38;5;241m=\u001b[39m tf\u001b[38;5;241m.\u001b[39mtanh(tf\u001b[38;5;241m.\u001b[39mtensordot(inputs, \u001b[38;5;28mself\u001b[39m\u001b[38;5;241m.\u001b[39mW, axes\u001b[38;5;241m=\u001b[39m[\u001b[38;5;241m2\u001b[39m, \u001b[38;5;241m0\u001b[39m]) \u001b[38;5;241m+\u001b[39m \u001b[38;5;28mself\u001b[39m\u001b[38;5;241m.\u001b[39mb)\n\u001b[1;32m     23\u001b[0m attention_weights \u001b[38;5;241m=\u001b[39m tf\u001b[38;5;241m.\u001b[39mnn\u001b[38;5;241m.\u001b[39msoftmax(tf\u001b[38;5;241m.\u001b[39mtensordot(score, \u001b[38;5;28mself\u001b[39m\u001b[38;5;241m.\u001b[39mu, axes\u001b[38;5;241m=\u001b[39m[\u001b[38;5;241m2\u001b[39m, \u001b[38;5;241m0\u001b[39m]), axis\u001b[38;5;241m=\u001b[39m\u001b[38;5;241m1\u001b[39m)\n\u001b[0;32m---> 24\u001b[0m context_vector \u001b[38;5;241m=\u001b[39m \u001b[43mattention_weights\u001b[49m\u001b[43m \u001b[49m\u001b[38;5;241;43m*\u001b[39;49m\u001b[43m \u001b[49m\u001b[43minputs\u001b[49m\n\u001b[1;32m     25\u001b[0m context_vector \u001b[38;5;241m=\u001b[39m tf\u001b[38;5;241m.\u001b[39mreduce_sum(context_vector, axis\u001b[38;5;241m=\u001b[39m\u001b[38;5;241m1\u001b[39m)\n\u001b[1;32m     26\u001b[0m \u001b[38;5;28;01mreturn\u001b[39;00m context_vector\n",
      "\u001b[0;31mValueError\u001b[0m: Exception encountered when calling AttentionLayer.call().\n\n\u001b[1mCould not automatically infer the output shape / dtype of 'attention_layer' (of type AttentionLayer). Either the `AttentionLayer.call()` method is incorrect, or you need to implement the `AttentionLayer.compute_output_spec() / compute_output_shape()` method. Error encountered:\n\nDimensions must be equal, but are 100 and 256 for '{{node mul}} = Mul[T=DT_FLOAT](Softmax, Placeholder)' with input shapes: [?,100], [?,100,256].\u001b[0m\n\nArguments received by AttentionLayer.call():\n  • args=('<KerasTensor shape=(None, 100, 256), dtype=float32, sparse=False, name=keras_tensor_16>',)\n  • kwargs=<class 'inspect._empty'>"
     ]
    }
   ],
   "source": [
    "import pandas as pd\n",
    "from sklearn.model_selection import train_test_split\n",
    "from tensorflow.keras.preprocessing.text import Tokenizer\n",
    "from tensorflow.keras.preprocessing.sequence import pad_sequences\n",
    "from tensorflow.keras.models import Sequential\n",
    "from tensorflow.keras.layers import Embedding, Bidirectional, LSTM, Dense, Dropout, Input\n",
    "from sklearn.metrics import classification_report, confusion_matrix\n",
    "import matplotlib.pyplot as plt\n",
    "import seaborn as sns\n",
    "\n",
    "# Define custom Attention layer\n",
    "class AttentionLayer(tf.keras.layers.Layer):\n",
    "\tdef __init__(self, **kwargs):\n",
    "\t\tsuper(AttentionLayer, self).__init__(**kwargs)\n",
    "\n",
    "\tdef build(self, input_shape):\n",
    "\t\tself.W = self.add_weight(shape=(input_shape[-1], input_shape[-1]), initializer='random_normal', trainable=True)\n",
    "\t\tself.b = self.add_weight(shape=(input_shape[-1],), initializer='zeros', trainable=True)\n",
    "\t\tself.u = self.add_weight(shape=(input_shape[-1],), initializer='random_normal', trainable=True)\n",
    "\n",
    "\tdef call(self, inputs):\n",
    "\t\tscore = tf.tanh(tf.tensordot(inputs, self.W, axes=[2, 0]) + self.b)\n",
    "\t\tattention_weights = tf.nn.softmax(tf.tensordot(score, self.u, axes=[2, 0]), axis=1)\n",
    "\t\tcontext_vector = attention_weights * inputs\n",
    "\t\tcontext_vector = tf.reduce_sum(context_vector, axis=1)\n",
    "\t\treturn context_vector\n",
    "\n",
    "# Build the AttBiRNN model\n",
    "inputs = Input(shape=(100,))\n",
    "x = Embedding(input_dim=10000, output_dim=128)(inputs)\n",
    "x = Bidirectional(LSTM(128, return_sequences=True))(x)\n",
    "x = AttentionLayer()(x)\n",
    "x = Dropout(0.5)(x)\n",
    "outputs = Dense(1, activation='sigmoid')(x)\n",
    "model = tf.keras.Model(inputs, outputs)\n",
    "\n",
    "# Compile the model\n",
    "model.compile(optimizer='adam', loss='binary_crossentropy', metrics=['accuracy'])\n",
    "\n",
    "# Train the model\n",
    "history = model.fit(X_train, y_train, epochs=10, batch_size=32, validation_data=(X_test, y_test))\n",
    "\n",
    "# Evaluate the model\n",
    "loss, accuracy = model.evaluate(X_test, y_test)\n",
    "print(f'Test Accuracy: {accuracy}')\n",
    "\n",
    "# Generate predictions\n",
    "predictions = model.predict(X_test)\n",
    "pred_classes = (predictions > 0.5).astype(\"int32\")\n",
    "\n",
    "# Classification report\n",
    "print(\"\\nClassification Report:\")\n",
    "print(classification_report(y_test, pred_classes, target_names=['Negative', 'Positive']))\n",
    "\n",
    "# Confusion matrix\n",
    "cm = confusion_matrix(y_test, pred_classes)\n",
    "plt.figure(figsize=(8, 6))\n",
    "sns.heatmap(cm, annot=True, fmt='d', cmap='Blues', xticklabels=['Negative', 'Positive'], yticklabels=['Negative', 'Positive'])\n",
    "plt.xlabel('Predicted')\n",
    "plt.ylabel('True')\n",
    "plt.title('Confusion Matrix')\n",
    "plt.show()"
   ]
  },
  {
   "cell_type": "code",
   "execution_count": null,
   "metadata": {},
   "outputs": [],
   "source": [
    "\n",
    "# Evaluate AttBiRNN model\n",
    "print(\"Evaluating AttBiRNN Model...\")\n",
    "attbirnn_eval = attbirnn_model.evaluate(X_test, y_test, verbose=0)\n",
    "print(f\"AttBiRNN Accuracy: {attbirnn_eval[1]:.2f}\")\n",
    "\n",
    "# Generate predictions for AttBiRNN\n",
    "attbirnn_predictions = attbirnn_model.predict(X_test)\n",
    "attbirnn_pred_classes = np.argmax(attbirnn_predictions, axis=1)\n",
    "\n",
    "# Classification report for AttBiRNN\n",
    "print(\"\\nClassification Report for AttBiRNN:\")\n",
    "print(classification_report(y_test_classes, attbirnn_pred_classes, target_names=['Negative', 'Positive']))\n",
    "\n",
    "# Confusion matrix for AttBiRNN\n",
    "print(\"Confusion Matrix for AttBiRNN:\")\n",
    "attbirnn_cm = confusion_matrix(y_test_classes, attbirnn_pred_classes)\n",
    "plt.figure(figsize=(8, 6))\n",
    "sns.heatmap(attbirnn_cm, annot=True, fmt='d', cmap='Blues', xticklabels=['Negative', 'Positive'], yticklabels=['Negative', 'Positive'])\n",
    "plt.xlabel('Predicted')\n",
    "plt.ylabel('True')\n",
    "plt.title('Confusion Matrix for AttBiRNN')\n",
    "plt.show()\n"
   ]
  },
  {
   "cell_type": "code",
   "execution_count": null,
   "metadata": {},
   "outputs": [],
   "source": [
    "\n",
    "\n",
    "# Build BiRNN Model\n",
    "def build_birnn_model():\n",
    "    model = Sequential([\n",
    "        Embedding(input_dim=10000, output_dim=128, input_length=100),\n",
    "        Bidirectional(LSTM(64, return_sequences=False)),\n",
    "        Dense(64, activation='relu'),\n",
    "        Dense(2, activation='softmax')\n",
    "    ])\n",
    "    return model\n",
    "\n",
    "# Compile and train BiRNN\n",
    "birnn_model = build_birnn_model()\n",
    "birnn_model.compile(optimizer=Adam(), loss='categorical_crossentropy', metrics=['accuracy'])\n",
    "birnn_model.fit(X_train, y_train, epochs=5, validation_data=(X_test, y_test), batch_size=32)\n",
    "\n",
    "# Build AttBiRNN Model\n",
    "class AttentionLayer(tf.keras.layers.Layer):\n",
    "    def __init__(self, **kwargs):\n",
    "        super(AttentionLayer, self).__init__(**kwargs)\n",
    "\n",
    "    def build(self, input_shape):\n",
    "        self.W = self.add_weight(shape=(input_shape[-1], input_shape[-1]), initializer='random_normal', trainable=True)\n",
    "        self.b = self.add_weight(shape=(input_shape[-1],), initializer='zeros', trainable=True)\n",
    "        self.u = self.add_weight(shape=(input_shape[-1],), initializer='random_normal', trainable=True)\n",
    "\n",
    "    def call(self, inputs):\n",
    "        score = tf.tanh(tf.tensordot(inputs, self.W, axes=[2, 0]) + self.b)\n",
    "        attention_weights = tf.nn.softmax(tf.tensordot(score, self.u, axes=[2, 0]), axis=1)\n",
    "        context_vector = attention_weights * inputs\n",
    "        context_vector = tf.reduce_sum(context_vector, axis=1)\n",
    "        return context_vector\n",
    "\n",
    "def build_attbirnn_model():\n",
    "    inputs = Input(shape=(100,))\n",
    "    x = Embedding(input_dim=10000, output_dim=128, input_length=100)(inputs)\n",
    "    x = Bidirectional(LSTM(64, return_sequences=True))(x)\n",
    "    x = AttentionLayer()(x)\n",
    "    outputs = Dense(2, activation='softmax')(x)\n",
    "    model = tf.keras.Model(inputs, outputs)\n",
    "    return model\n",
    "\n",
    "# Compile and train AttBiRNN\n",
    "attbirnn_model = build_attbirnn_model()\n",
    "attbirnn_model.compile(optimizer=Adam(), loss='categorical_crossentropy', metrics=['accuracy'])\n",
    "attbirnn_model.fit(X_train, y_train, epochs=5, validation_data=(X_test, y_test), batch_size=32)\n"
   ]
  },
  {
   "cell_type": "code",
   "execution_count": null,
   "metadata": {},
   "outputs": [],
   "source": []
  }
 ],
 "metadata": {
  "kernelspec": {
   "display_name": "Python 3",
   "language": "python",
   "name": "python3"
  },
  "language_info": {
   "codemirror_mode": {
    "name": "ipython",
    "version": 3
   },
   "file_extension": ".py",
   "mimetype": "text/x-python",
   "name": "python",
   "nbconvert_exporter": "python",
   "pygments_lexer": "ipython3",
   "version": "3.9.6"
  }
 },
 "nbformat": 4,
 "nbformat_minor": 2
}
