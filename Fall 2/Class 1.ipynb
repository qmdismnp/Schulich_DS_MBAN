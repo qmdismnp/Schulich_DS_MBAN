{
 "cells": [
  {
   "cell_type": "code",
   "execution_count": 1,
   "metadata": {},
   "outputs": [],
   "source": [
    "#import necessary libraries\n",
    "import pandas as pd\n",
    "import numpy as np\n",
    "from sklearn.model_selection import train_test_split\n",
    "from sklearn.tree import DecisionTreeClassifier\n",
    "from sklearn.metrics import accuracy_score\n",
    "import seaborn as sns\n",
    "from scipy.stats import mode\n",
    "import time"
   ]
  },
  {
   "cell_type": "code",
   "execution_count": 2,
   "metadata": {},
   "outputs": [],
   "source": [
    "# read data\n",
    "predictions = pd.read_csv('/Users/huiyisang/Desktop/gender_submission.csv')\n",
    "train = pd.read_csv('/Users/huiyisang/Desktop/train.csv')\n",
    "test = pd.read_csv('/Users/huiyisang/Desktop/test.csv')"
   ]
  },
  {
   "cell_type": "code",
   "execution_count": 3,
   "metadata": {},
   "outputs": [],
   "source": [
    "data = sns.load_dataset('titanic')"
   ]
  },
  {
   "cell_type": "code",
   "execution_count": 4,
   "metadata": {},
   "outputs": [],
   "source": [
    "df = data.drop(['deck','class','who','adult_male','embark_town','alive','alone'],axis=1)"
   ]
  },
  {
   "cell_type": "code",
   "execution_count": 5,
   "metadata": {},
   "outputs": [],
   "source": [
    "df['age'] = df['age'].fillna(df.groupby('sex')['age'].transform('mean'))"
   ]
  },
  {
   "cell_type": "code",
   "execution_count": 6,
   "metadata": {},
   "outputs": [],
   "source": [
    "df['fam'] = df['parch'] + df['sibsp']"
   ]
  },
  {
   "cell_type": "code",
   "execution_count": 7,
   "metadata": {},
   "outputs": [
    {
     "data": {
      "text/html": [
       "<div>\n",
       "<style scoped>\n",
       "    .dataframe tbody tr th:only-of-type {\n",
       "        vertical-align: middle;\n",
       "    }\n",
       "\n",
       "    .dataframe tbody tr th {\n",
       "        vertical-align: top;\n",
       "    }\n",
       "\n",
       "    .dataframe thead th {\n",
       "        text-align: right;\n",
       "    }\n",
       "</style>\n",
       "<table border=\"1\" class=\"dataframe\">\n",
       "  <thead>\n",
       "    <tr style=\"text-align: right;\">\n",
       "      <th></th>\n",
       "      <th>survived</th>\n",
       "      <th>pclass</th>\n",
       "      <th>sex</th>\n",
       "      <th>age</th>\n",
       "      <th>sibsp</th>\n",
       "      <th>parch</th>\n",
       "      <th>fare</th>\n",
       "      <th>embarked</th>\n",
       "      <th>fam</th>\n",
       "    </tr>\n",
       "  </thead>\n",
       "  <tbody>\n",
       "    <tr>\n",
       "      <th>0</th>\n",
       "      <td>0</td>\n",
       "      <td>3</td>\n",
       "      <td>male</td>\n",
       "      <td>22.0</td>\n",
       "      <td>1</td>\n",
       "      <td>0</td>\n",
       "      <td>7.2500</td>\n",
       "      <td>S</td>\n",
       "      <td>1</td>\n",
       "    </tr>\n",
       "    <tr>\n",
       "      <th>1</th>\n",
       "      <td>1</td>\n",
       "      <td>1</td>\n",
       "      <td>female</td>\n",
       "      <td>38.0</td>\n",
       "      <td>1</td>\n",
       "      <td>0</td>\n",
       "      <td>71.2833</td>\n",
       "      <td>C</td>\n",
       "      <td>1</td>\n",
       "    </tr>\n",
       "    <tr>\n",
       "      <th>2</th>\n",
       "      <td>1</td>\n",
       "      <td>3</td>\n",
       "      <td>female</td>\n",
       "      <td>26.0</td>\n",
       "      <td>0</td>\n",
       "      <td>0</td>\n",
       "      <td>7.9250</td>\n",
       "      <td>S</td>\n",
       "      <td>0</td>\n",
       "    </tr>\n",
       "    <tr>\n",
       "      <th>3</th>\n",
       "      <td>1</td>\n",
       "      <td>1</td>\n",
       "      <td>female</td>\n",
       "      <td>35.0</td>\n",
       "      <td>1</td>\n",
       "      <td>0</td>\n",
       "      <td>53.1000</td>\n",
       "      <td>S</td>\n",
       "      <td>1</td>\n",
       "    </tr>\n",
       "    <tr>\n",
       "      <th>4</th>\n",
       "      <td>0</td>\n",
       "      <td>3</td>\n",
       "      <td>male</td>\n",
       "      <td>35.0</td>\n",
       "      <td>0</td>\n",
       "      <td>0</td>\n",
       "      <td>8.0500</td>\n",
       "      <td>S</td>\n",
       "      <td>0</td>\n",
       "    </tr>\n",
       "  </tbody>\n",
       "</table>\n",
       "</div>"
      ],
      "text/plain": [
       "   survived  pclass     sex   age  sibsp  parch     fare embarked  fam\n",
       "0         0       3    male  22.0      1      0   7.2500        S    1\n",
       "1         1       1  female  38.0      1      0  71.2833        C    1\n",
       "2         1       3  female  26.0      0      0   7.9250        S    0\n",
       "3         1       1  female  35.0      1      0  53.1000        S    1\n",
       "4         0       3    male  35.0      0      0   8.0500        S    0"
      ]
     },
     "execution_count": 7,
     "metadata": {},
     "output_type": "execute_result"
    }
   ],
   "source": [
    "df.head()"
   ]
  },
  {
   "cell_type": "code",
   "execution_count": 8,
   "metadata": {},
   "outputs": [],
   "source": [
    "df = pd.get_dummies(df, columns=['sex','embarked','pclass'], dtype=int)"
   ]
  },
  {
   "cell_type": "code",
   "execution_count": 9,
   "metadata": {},
   "outputs": [],
   "source": [
    "y = df['survived']\n",
    "X = df.drop('survived', axis=1)"
   ]
  },
  {
   "cell_type": "code",
   "execution_count": 10,
   "metadata": {},
   "outputs": [],
   "source": [
    "all_columns = df.columns.to_list()\n",
    "random_columns = [np.random.choice(all_columns, 3, replace= True).tolist() for i in range (10)]"
   ]
  },
  {
   "cell_type": "code",
   "execution_count": 11,
   "metadata": {},
   "outputs": [
    {
     "data": {
      "text/plain": [
       "[['sibsp', 'fam', 'survived'],\n",
       " ['pclass_2', 'embarked_C', 'embarked_C'],\n",
       " ['fare', 'sibsp', 'sex_male'],\n",
       " ['age', 'pclass_2', 'parch'],\n",
       " ['age', 'sibsp', 'survived'],\n",
       " ['sibsp', 'sex_female', 'sex_female'],\n",
       " ['embarked_S', 'survived', 'sibsp'],\n",
       " ['sex_male', 'sibsp', 'pclass_2'],\n",
       " ['pclass_3', 'pclass_1', 'age'],\n",
       " ['pclass_2', 'pclass_2', 'embarked_Q']]"
      ]
     },
     "execution_count": 11,
     "metadata": {},
     "output_type": "execute_result"
    }
   ],
   "source": [
    "random_columns"
   ]
  },
  {
   "cell_type": "code",
   "execution_count": 12,
   "metadata": {},
   "outputs": [],
   "source": [
    "X_train, X_test, y_train, y_test = train_test_split(X, y, test_size=0.2, random_state=42)"
   ]
  },
  {
   "cell_type": "code",
   "execution_count": 13,
   "metadata": {},
   "outputs": [],
   "source": [
    "#customize the ensamble function\n",
    "def build_decision_trees(X_train, y_train, num_models=10, num_columns=3):\n",
    "    all_columns = X_train.columns.to_list()\n",
    "    models = []\n",
    "    for i in range(num_models):\n",
    "        selected_columns = np.random.choice(all_columns, num_columns, replace=True).tolist()\n",
    "        X_train_subset = X_train[selected_columns]\n",
    "        tree = DecisionTreeClassifier(random_state=42)\n",
    "        tree.fit(X_train_subset, y_train)\n",
    "        models.append((tree, selected_columns))\n",
    "    return models"
   ]
  },
  {
   "cell_type": "code",
   "execution_count": 14,
   "metadata": {},
   "outputs": [],
   "source": [
    "models = build_decision_trees(X_train, y_train, num_models=10, num_columns=3)"
   ]
  },
  {
   "cell_type": "code",
   "execution_count": 15,
   "metadata": {},
   "outputs": [
    {
     "data": {
      "text/plain": [
       "[(DecisionTreeClassifier(random_state=42), ['age', 'fam', 'age']),\n",
       " (DecisionTreeClassifier(random_state=42), ['fam', 'pclass_3', 'sex_female']),\n",
       " (DecisionTreeClassifier(random_state=42),\n",
       "  ['embarked_S', 'embarked_S', 'sex_female']),\n",
       " (DecisionTreeClassifier(random_state=42), ['fare', 'sex_female', 'age']),\n",
       " (DecisionTreeClassifier(random_state=42), ['age', 'pclass_2', 'embarked_C']),\n",
       " (DecisionTreeClassifier(random_state=42),\n",
       "  ['embarked_S', 'age', 'sex_female']),\n",
       " (DecisionTreeClassifier(random_state=42),\n",
       "  ['embarked_Q', 'embarked_C', 'parch']),\n",
       " (DecisionTreeClassifier(random_state=42), ['pclass_2', 'fare', 'fam']),\n",
       " (DecisionTreeClassifier(random_state=42), ['parch', 'fam', 'pclass_2']),\n",
       " (DecisionTreeClassifier(random_state=42),\n",
       "  ['sibsp', 'sex_female', 'pclass_2'])]"
      ]
     },
     "execution_count": 15,
     "metadata": {},
     "output_type": "execute_result"
    }
   ],
   "source": [
    "models"
   ]
  },
  {
   "cell_type": "code",
   "execution_count": 16,
   "metadata": {},
   "outputs": [
    {
     "name": "stdout",
     "output_type": "stream",
     "text": [
      "Training Accuracy: 0.86\n"
     ]
    }
   ],
   "source": [
    "def measure_accuracy(models, X_train, y_train):\n",
    "    \"\"\"\n",
    "    Measure accuracy of the models on the training data.\n",
    "    \n",
    "    Parameters:\n",
    "    - models: List of models and their selected columns.\n",
    "    - X_train: Training feature data.\n",
    "    - y_train: True training labels.\n",
    "    \n",
    "    Returns:\n",
    "    - Overall accuracy of the ensemble model.\n",
    "    \"\"\"\n",
    "    # Store predictions for each model\n",
    "    predictions = []\n",
    "    \n",
    "    for tree, selected_columns in models:\n",
    "        # Use the selected columns to predict on the training data\n",
    "        X_train_subset = X_train[selected_columns]\n",
    "        pred = tree.predict(X_train_subset)\n",
    "        predictions.append(pred)\n",
    "    \n",
    "    # Transpose predictions to get predictions for each sample across all models\n",
    "    predictions = np.array(predictions).T\n",
    "    \n",
    "    # Majority vote across the 10 models for each sample\n",
    "    final_predictions, _ = mode(predictions, axis=1)\n",
    "    final_predictions = final_predictions.flatten()  # Convert to 1D array\n",
    "    \n",
    "    # Measure accuracy\n",
    "    accuracy = accuracy_score(y_train, final_predictions)\n",
    "    return accuracy\n",
    "\n",
    "# Measure accuracy on the training data\n",
    "train_accuracy = measure_accuracy(models, X_train, y_train)\n",
    "print(f\"Training Accuracy: {train_accuracy:.2f}\")"
   ]
  },
  {
   "cell_type": "code",
   "execution_count": 17,
   "metadata": {},
   "outputs": [
    {
     "name": "stdout",
     "output_type": "stream",
     "text": [
      "Test Accuracy: 0.77\n"
     ]
    }
   ],
   "source": [
    "def majority_vote_prediction(models, X_test):\n",
    "    \"\"\"\n",
    "    Apply the trained models on the test data and perform majority vote for final prediction.\n",
    "    \n",
    "    Parameters:\n",
    "    - models: List of trained models and their selected columns.\n",
    "    - X_test: Test feature data.\n",
    "    \n",
    "    Returns:\n",
    "    - Final predictions based on majority voting.\n",
    "    \"\"\"\n",
    "    # Store predictions for each model\n",
    "    predictions = []\n",
    "    \n",
    "    for tree, selected_columns in models:\n",
    "        # Use the selected columns to predict on the test data\n",
    "        X_test_subset = X_test[selected_columns]\n",
    "        pred = tree.predict(X_test_subset)\n",
    "        predictions.append(pred)\n",
    "    \n",
    "    # Transpose predictions to get predictions for each sample across all models\n",
    "    predictions = np.array(predictions).T\n",
    "    \n",
    "    # Majority vote across the models for each test sample\n",
    "    final_predictions, _ = mode(predictions, axis=1)\n",
    "    final_predictions = final_predictions.flatten()  # Convert to 1D array\n",
    "    \n",
    "    return final_predictions\n",
    "\n",
    "# Make predictions on the test data\n",
    "final_test_predictions = majority_vote_prediction(models, X_test)\n",
    "\n",
    "# Measure accuracy on the test data\n",
    "test_accuracy = accuracy_score(y_test, final_test_predictions)\n",
    "print(f\"Test Accuracy: {test_accuracy:.2f}\")"
   ]
  },
  {
   "cell_type": "code",
   "execution_count": null,
   "metadata": {},
   "outputs": [],
   "source": []
  }
 ],
 "metadata": {
  "kernelspec": {
   "display_name": "Python 3",
   "language": "python",
   "name": "python3"
  },
  "language_info": {
   "codemirror_mode": {
    "name": "ipython",
    "version": 3
   },
   "file_extension": ".py",
   "mimetype": "text/x-python",
   "name": "python",
   "nbconvert_exporter": "python",
   "pygments_lexer": "ipython3",
   "version": "3.9.6"
  }
 },
 "nbformat": 4,
 "nbformat_minor": 2
}
